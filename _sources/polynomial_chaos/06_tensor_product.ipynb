{
 "cells": [
  {
   "cell_type": "code",
   "execution_count": 1,
   "metadata": {
    "tags": [
     "hide-input"
    ]
   },
   "outputs": [
    {
     "name": "stdout",
     "output_type": "stream",
     "text": [
      "Requirement already satisfied: orthojax in /Users/ibilion/.pyenv/versions/3.11.6/lib/python3.11/site-packages (0.1.3)\n",
      "Requirement already satisfied: jax>=0.4.19 in /Users/ibilion/.pyenv/versions/3.11.6/lib/python3.11/site-packages (from orthojax) (0.4.19)\n",
      "Requirement already satisfied: numpy in /Users/ibilion/.pyenv/versions/3.11.6/lib/python3.11/site-packages (from orthojax) (1.25.2)\n",
      "Requirement already satisfied: equinox>=0.11.2 in /Users/ibilion/.pyenv/versions/3.11.6/lib/python3.11/site-packages (from orthojax) (0.11.2)\n",
      "Requirement already satisfied: jaxtyping>=0.2.20 in /Users/ibilion/.pyenv/versions/3.11.6/lib/python3.11/site-packages (from equinox>=0.11.2->orthojax) (0.2.23)\n",
      "Requirement already satisfied: typing-extensions>=4.5.0 in /Users/ibilion/.pyenv/versions/3.11.6/lib/python3.11/site-packages (from equinox>=0.11.2->orthojax) (4.8.0)\n",
      "Requirement already satisfied: ml-dtypes>=0.2.0 in /Users/ibilion/.pyenv/versions/3.11.6/lib/python3.11/site-packages (from jax>=0.4.19->orthojax) (0.3.1)\n",
      "Requirement already satisfied: opt-einsum in /Users/ibilion/.pyenv/versions/3.11.6/lib/python3.11/site-packages (from jax>=0.4.19->orthojax) (3.3.0)\n",
      "Requirement already satisfied: scipy>=1.9 in /Users/ibilion/.pyenv/versions/3.11.6/lib/python3.11/site-packages (from jax>=0.4.19->orthojax) (1.11.3)\n",
      "Requirement already satisfied: typeguard<3,>=2.13.3 in /Users/ibilion/.pyenv/versions/3.11.6/lib/python3.11/site-packages (from jaxtyping>=0.2.20->equinox>=0.11.2->orthojax) (2.13.3)\n",
      "\u001b[33mDEPRECATION: graphql-ws 0.3.0 has a non-standard dependency specifier graphql-core>=2.0<3. pip 24.0 will enforce this behaviour change. A possible replacement is to upgrade to a newer version of graphql-ws or contact the author to suggest that they release a version with a conforming dependency specifiers. Discussion can be found at https://github.com/pypa/pip/issues/12063\u001b[0m\u001b[33m\n",
      "\u001b[0m"
     ]
    }
   ],
   "source": [
    "import matplotlib.pyplot as plt\n",
    "%matplotlib inline\n",
    "import matplotlib_inline\n",
    "matplotlib_inline.backend_inline.set_matplotlib_formats('svg')\n",
    "import seaborn as sns\n",
    "sns.set_context(\"paper\")\n",
    "sns.set_style(\"ticks\");\n",
    "\n",
    "!pip install orthojax --upgrade"
   ]
  },
  {
   "cell_type": "markdown",
   "metadata": {},
   "source": [
    "# Tensor Product\n",
    "\n",
    "Suppose that we have two Hilbert spaces $H_1$ and $H_2$ with inner products $\\langle \\cdot, \\cdot \\rangle_1$ and $\\langle \\cdot, \\cdot \\rangle_2$ respectively. \n",
    "\n",
    "Then the tensor product $H_1 \\otimes H_2$ is the space with elements that are that are linear combinations of the elements $h_1 \\otimes h_2$ where $h_1 \\in H_1$ and $h_2 \\in H_2$.\n",
    "More specifically:\n",
    "\n",
    "$$\n",
    "H_1 \\otimes H_2 = \\left\\{ \\sum_{i=1}^n \\alpha_i h_{1,i} \\otimes h_{2,i} \\mid n \\in \\mathbb{N}, \\alpha_i \\in \\mathbb{K}, h_{1,i} \\in H_1, h_{2,i} \\in H_2 \\right\\},\n",
    "$$\n",
    "\n",
    "where $\\mathbb{K}$ is the field of scalars (either $\\mathbb{R}$ or $\\mathbb{C}$).\n",
    "\n",
    "There is a natural way to define an inner product on $H_1 \\otimes H_2$:\n",
    "\n",
    "$$\n",
    "\\langle \\sum_{i=1}^n \\alpha_i h_{1,i} \\otimes h_{2,i}, \\sum_{j=1}^m \\beta_j h_{1,j} \\otimes h_{2,j} \\rangle = \\sum_{i=1}^n \\sum_{j=1}^m \\alpha_i \\overline{\\beta_j} \\langle h_{1,i}, h_{1,j} \\rangle_1 \\langle h_{2,i}, h_{2,j} \\rangle_2.\n",
    "$$"
   ]
  },
  {
   "cell_type": "code",
   "execution_count": null,
   "metadata": {},
   "outputs": [],
   "source": []
  }
 ],
 "metadata": {
  "kernelspec": {
   "display_name": "Python 3",
   "language": "python",
   "name": "python3"
  },
  "language_info": {
   "codemirror_mode": {
    "name": "ipython",
    "version": 3
   },
   "file_extension": ".py",
   "mimetype": "text/x-python",
   "name": "python",
   "nbconvert_exporter": "python",
   "pygments_lexer": "ipython3",
   "version": "3.11.6"
  }
 },
 "nbformat": 4,
 "nbformat_minor": 2
}
