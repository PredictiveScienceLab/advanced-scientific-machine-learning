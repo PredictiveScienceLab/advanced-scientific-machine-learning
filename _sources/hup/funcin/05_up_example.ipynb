{
 "cells": [
  {
   "cell_type": "code",
   "execution_count": 1,
   "metadata": {
    "tags": [
     "hide-input",
     "hide-output"
    ]
   },
   "outputs": [],
   "source": [
    "import matplotlib.pyplot as plt\n",
    "%matplotlib inline\n",
    "import matplotlib_inline\n",
    "matplotlib_inline.backend_inline.set_matplotlib_formats('svg')\n",
    "import seaborn as sns\n",
    "sns.set_context(\"paper\")\n",
    "sns.set_style(\"ticks\")\n",
    "\n",
    "import numpy as np"
   ]
  },
  {
   "cell_type": "markdown",
   "metadata": {},
   "source": [
    "# Example – Surrogate for stochastic Poisson equation"
   ]
  },
  {
   "cell_type": "markdown",
   "metadata": {},
   "source": [
    "Consider the steady state heat equation on a heterogeneous rod with no heat sources:\n",
    "$$\n",
    "\\frac{d}{dx}\\left(c(x)\\frac{d}{dx}T(x)\\right) = 0,\n",
    "$$\n",
    "and boundary values:\n",
    "$$\n",
    "T(0) = 1\\;\\text{ and }\\;T(1) = 0.\n",
    "$$\n",
    "We are interested in cases in which we are uncertain about the conductivity, $c(x)$.\n",
    "Before we proceed, we need to put together all our prior beliefs and come up with a stochastic model for $c(x)$ that represents our uncertainty.\n",
    "This requires assigning a probability measure on a function space (the subject of Lectures 7 to 12).\n",
    "For now, we will just give you a model.\n",
    "We will model $c = c(x;\\boldsymbol{\\xi})$ as:\n",
    "$$\n",
    "c(x;\\boldsymbol{\\xi}) = c_0(x)\\exp\\{g(x;\\boldsymbol{\\xi})\\},\n",
    "$$\n",
    "where $c_0(x)$ is a \"mean\" conductivity level and $g(x;\\boldsymbol{\\xi})$ is a random field.\n",
    "The reason for the exponential is that $c(x;\\boldsymbol{\\xi})$ must be positive.\n",
    "We will assume that the random field ia a [Wiener-Lévy process](https://en.wikipedia.org/wiki/Wiener_process).\n",
    "This is a field that it is no-where continuous and it is actually a fractal (when you zoom in the spatial dimension, the field resembles itself at a larger scale).\n",
    "The Karhunen-Loeve expansion of the field is:\n",
    "$$\n",
    "g(x;\\boldsymbol{\\xi}) = \\sum_{i=1}^\\infty\\xi_i\\phi_i(x),\n",
    "$$\n",
    "where $\\phi_i(x)$ are the eigenfunctions of $x$ and $\\xi_i$ are independent standard normal random variables with zero mean and unit variance.\n",
    "For this particular example, we will assume that:\n",
    "$$\n",
    "\\phi_i(x) = \\frac{\\sqrt{2}\\sigma}{(i - \\frac{1}{2})\\pi}\\sin\\left((i-\\frac{1}{2})\\pi x\\right),\n",
    "$$\n",
    "where $\\sigma>0$ is a parameter controlling the variance of the random field.\n",
    "For the record, this corresponds to a random field known as the \n",
    "Since, we cannot actually work with the infinite sums, let's truncate at $i=d$ and define:\n",
    "$$\n",
    "g_d(x;\\boldsymbol{\\xi}) = \\sum_{i=1}^d\\xi_i\\phi_i(x).\n",
    "$$\n",
    "Let's implement the field:"
   ]
  },
  {
   "cell_type": "code",
   "execution_count": null,
   "metadata": {},
   "outputs": [],
   "source": [
    "# This computes the random field given a xi\n",
    "def g(x, xi, sigma=1.):\n",
    "    \"\"\"\n",
    "    Arguments:\n",
    "    x     -   One dimensional vector containing the points at which you wish to evaluate the field.\n",
    "    xi    -   One dimensional vector of the random variables. The dimensionality of this vector\n",
    "              corresponds to the ``d`` in the math above.\n",
    "    sigma -   This is the variance of the field.\n",
    "    \"\"\"\n",
    "    res = np.zeros(x.shape[0])\n",
    "    d = xi.shape[0]\n",
    "    for i in range(d):\n",
    "        res += xi[i] * np.sqrt(2) * sigma / (i - .5) / np.pi * np.sin((i - .5) * np.pi * x)\n",
    "    return res"
   ]
  }
 ],
 "metadata": {
  "kernelspec": {
   "display_name": ".venv",
   "language": "python",
   "name": "python3"
  },
  "language_info": {
   "codemirror_mode": {
    "name": "ipython",
    "version": 3
   },
   "file_extension": ".py",
   "mimetype": "text/x-python",
   "name": "python",
   "nbconvert_exporter": "python",
   "pygments_lexer": "ipython3",
   "version": "3.11.9"
  }
 },
 "nbformat": 4,
 "nbformat_minor": 2
}
