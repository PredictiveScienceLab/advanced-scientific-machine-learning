{
 "cells": [
  {
   "cell_type": "code",
   "execution_count": 1,
   "metadata": {
    "tags": [
     "hide-input"
    ]
   },
   "outputs": [],
   "source": [
    "import matplotlib.pyplot as plt\n",
    "%matplotlib inline\n",
    "import matplotlib_inline\n",
    "matplotlib_inline.backend_inline.set_matplotlib_formats('png')\n",
    "import seaborn as sns\n",
    "sns.set_context(\"paper\")\n",
    "sns.set_style(\"ticks\");"
   ]
  },
  {
   "cell_type": "markdown",
   "metadata": {},
   "source": [
    "# Homework 2\n",
    "\n",
    "## References\n",
    "\n",
    "+ Module 3: Uncertainty Propagation Through Scientific Models\n",
    "   - Local sensitivity analysis\n",
    "   - Global sensitivity analysis\n",
    "\n",
    "## Instructions\n",
    "\n",
    "+ Type your name and email in the \"Student details\" section below.\n",
    "+ Develop the code and generate the figures you need to solve the problems using this notebook.\n",
    "+ For the answers that require a mathematical proof or derivation you should type them using latex. If you have never written latex before and you find it exceedingly difficult, we will likely accept handwritten solutions.\n",
    "+ The total homework points are 100. Please note that the problems are not weighed equally.\n",
    "\n",
    "## Student details\n",
    "\n",
    "+ **First Name:**\n",
    "+ **Last Name:**\n",
    "+ **Email:**\n",
    "+ **Used generative AI to complete this assignment (Yes/No):**\n",
    "+ **Which generative AI tool did you use (if applicable)?:**"
   ]
  },
  {
   "cell_type": "markdown",
   "metadata": {},
   "source": [
    "## Problem 1 - Local sensitivity analysis of nonlinear dynamical system\n",
    "\n",
    "Consider the Duffing oscillator:\n",
    "\n",
    "$$\\ddot{x} + \\delta \\dot{x} + \\alpha x + \\beta x^3 = \\gamma \\cos(\\omega t)$$\n",
    "\n",
    "where $\\delta$, $\\alpha$, $\\beta$, $\\gamma$, and $\\omega$ are constants. As a system of first order equations, introducing $v = \\dot{x}$, we have:\n",
    "\n",
    "$$\\begin{align}\n",
    "\\dot{x} & = v \\\\\n",
    "\\dot{v} & = \\gamma \\cos(\\omega t) - \\delta v - \\alpha x - \\beta x^3\n",
    "\\end{align}$$\n",
    "\n",
    "The initial conditions are $x(0) = x_0$ and $v(0) = v_0$.\n",
    "Denote by $\\theta$ the **vector of all parameters and initial conditions**, i.e. $\\theta = (x_0, v_0, \\alpha, \\beta, \\gamma, \\delta, \\omega, x_0, v_0)$.\n",
    "The vector field $f(x,v,t;\\theta)$ is then given by:\n",
    "\n",
    "$$f(x,v,t;\\theta) = \\begin{pmatrix}\n",
    "v \\\\\n",
    "\\gamma \\cos(\\omega t) - \\delta v - \\alpha x - \\beta x^3\n",
    "\\end{pmatrix}.$$\n",
    "\n",
    "### Part A: Implement the Duffing oscillator\n",
    "Modify the code of [this example](https://predictivesciencelab.github.io/advanced-scientific-machine-learning/up/sensitivity_analysis/03_example_ode.html) to create a solver that takes $\\theta$ as an input and returns the solution of the Duffing oscillator for a given the interval of time $[0, 50]$ with a time step of 0.1.\n",
    "Make sure your code can be vectorized with respect to $\\theta$ and that it can be `jit`ed.\n",
    "\n",
    "**Answer:**"
   ]
  },
  {
   "cell_type": "code",
   "execution_count": null,
   "metadata": {},
   "outputs": [],
   "source": [
    "# Your code and evidence that it works here"
   ]
  },
  {
   "cell_type": "markdown",
   "metadata": {},
   "source": [
    "### Part B: Plot the strange attractor\n",
    "\n",
    "Fix the values of the parameters to: $\\alpha = 1$, $\\beta = 5, \\delta = 0.02, \\gamma = 8$, and $\\omega = 0.5$. Use the solver you implemented in Part A to plot the [strange attractor](https://en.wikipedia.org/wiki/Attractor#Strange_attractor) of the Duffing oscillator. To do this, just sample the initial conditions $x_0$ and $v_0$ from a uniform distribution in the interval $[-1, 1]$ and do the scatter plot of the points $(x(t), v(t))$ at $t = 50$. It looks like [this](https://en.wikipedia.org/wiki/Duffing_equation#/media/File:Forced_Duffing_equation_Poincaré_section.png).\n",
    "\n",
    "Hint: Just make a 2D array of $\\theta$'s with the first two columns randomly sampled and the rest fixed. Then pass the samples through your vectorized and `jit`ed solver and plot the results.\n",
    "\n",
    "**Answer:**"
   ]
  },
  {
   "cell_type": "code",
   "execution_count": null,
   "metadata": {},
   "outputs": [],
   "source": [
    "# Your response in code and markdown cells here"
   ]
  },
  {
   "cell_type": "markdown",
   "metadata": {},
   "source": [
    "### Part C: Local sensitivity analysis\n",
    "\n",
    "Suppose you have a 1\\% unceratainty about $\\alpha, \\beta, \\delta, \\gamma, \\omega$ and 5\\% uncertainty about the initial conditions $x_0$ and $v_0$. You can model this uncertainty as a Gaussian random variable:\n",
    "\n",
    "$$\n",
    "\\theta \\sim \\mathcal{N}\\left(\n",
    "\\begin{pmatrix}\n",
    "0.5\\\\\n",
    "0.5\\\\\n",
    "1 \\\\\n",
    "5 \\\\\n",
    "0.37 \\\\\n",
    "0.1 \\\\\n",
    "1\n",
    "\\end{pmatrix},\n",
    "\\begin{pmatrix}\n",
    "0.025^2 & 0 & 0 & 0 & 0 & 0 & 0 \\\\\n",
    "0 & 0.025^2 & 0 & 0 & 0 & 0 & 0 \\\\\n",
    "0 & 0 & 0.01^2 & 0 & 0 & 0 & 0 \\\\\n",
    "0 & 0 & 0 & 0.05^2 & 0 & 0 & 0 \\\\\n",
    "0 & 0 & 0 & 0 & 0.0037^2 & 0 & 0 \\\\\n",
    "0 & 0 & 0 & 0 & 0 & 0.001^2 & 0 \\\\\n",
    "0 & 0 & 0 & 0 & 0 & 0 & 0.01^2\n",
    "\\end{pmatrix}\n",
    "\\right)\n",
    "$$\n",
    "\n",
    "+ Use local sensitivity analysis to propagate this uncertainty through the Duffing oscillator.\n",
    "+ Use your results to plot 95\\% credible intervals of $x(t)$ and $v(t)$ as functions of time for $t \\in [0, 5]$.\n",
    "+ Plot the estimated mean and variance of $x(t)$ and $v(t)$ as functions of time for $t \\in [0, 10]$ and compare to Monte Carlo estimates using $10^6$ samples. For how long does the local sensitivity analysis give a good approximation of the mean and variance?\n",
    "\n",
    "**Answer:**"
   ]
  },
  {
   "cell_type": "code",
   "execution_count": null,
   "metadata": {},
   "outputs": [],
   "source": [
    "# Your response in code and markdown cells here"
   ]
  },
  {
   "cell_type": "markdown",
   "metadata": {},
   "source": [
    "### Part D: Local sensitivity analysis results in a Gaussian process approximation of the uncertain dynamical system\n",
    "\n",
    "As we discussed in the [theory](https://predictivesciencelab.github.io/advanced-scientific-machine-learning/up/sensitivity_analysis/01_theory.html), local sensitivity analysis results in a (vector-valued) Gaussian process.\n",
    "\n",
    "+ Plot the covariance of $x(t)$ with $x(0)$, i.e., plot the function:\n",
    "\n",
    "    $$\n",
    "    g(t) = \\text{cov}[x(t), x(0)] = \\nabla_\\theta x(t)\\Sigma \\nabla_\\theta x(0)^\\top,\n",
    "    $$\n",
    "\n",
    "    for $t$ in $[0, 5]$.\n",
    "\n",
    "+ Take five (5) samples from the Gaussian process corresponding to $x(t)$ and plot them as functions of time for $t \\in [0, 5]$. Hint: The mean is just the local sensitivity analysis estimate of the mean. Then you will have to find the covariance matrix of $x(t_i)$, for $t_i$ points in $[0,5]$, and sample from the corresponding multivariate Gaussian distribution.\n",
    "\n",
    "**Answer:**"
   ]
  },
  {
   "cell_type": "code",
   "execution_count": null,
   "metadata": {},
   "outputs": [],
   "source": [
    "# Your response in code and markdown cells here"
   ]
  },
  {
   "cell_type": "markdown",
   "metadata": {},
   "source": [
    "### Part E: Global sensitivity analysis\n",
    "\n",
    "Sobol sensitivity indices are a popular way to quantify the importance of the parameters of a model.\n",
    "The caveat is that they assume that the inputs of the model are independent and uniformly distributed.\n",
    "So, before applying the method, we will have to transform the random variables $\\theta_i$ to uniform random variables $\\xi_i$.\n",
    "\n",
    "+ Find random variables $\\xi_i$ and transformation functions $F_i$, such that $\\xi_i \\sim U(0, 1)$ and $\\theta_i = F_i^{-1}(\\xi_i)$. Explicitly write down what what are these transformation functions. Hint: Recall that if $X$ is a random variable with CDF $F_X$, then $Y = F_X(X)$ is a random variable with uniform distribution in $[0, 1]$.\n",
    "+ Implement a solver that takes $\\xi$ as an input and returns the solution of the Duffing oscillator for a given the interval of time $[0, 50]$ with a time step of 0.1.\n",
    "+ Compute the first order Sobol sensitivity indices for the Duffing oscillator using the solver you just implemented. Make sure you have used enough samples to get a convergent estimate of the Sobol indices. You can use the [SALib](https://salib.readthedocs.io/en/latest/) library to do this.\n"
   ]
  },
  {
   "cell_type": "code",
   "execution_count": null,
   "metadata": {},
   "outputs": [],
   "source": [
    "# Your response in code and markdown cells here"
   ]
  }
 ],
 "metadata": {
  "kernelspec": {
   "display_name": "Python 3",
   "language": "python",
   "name": "python3"
  },
  "language_info": {
   "codemirror_mode": {
    "name": "ipython",
    "version": 3
   },
   "file_extension": ".py",
   "mimetype": "text/x-python",
   "name": "python",
   "nbconvert_exporter": "python",
   "pygments_lexer": "ipython3",
   "version": "3.11.6"
  }
 },
 "nbformat": 4,
 "nbformat_minor": 2
}
