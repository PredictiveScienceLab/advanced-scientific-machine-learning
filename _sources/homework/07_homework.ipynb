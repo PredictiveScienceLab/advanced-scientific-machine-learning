{
 "cells": [
  {
   "cell_type": "code",
   "execution_count": null,
   "metadata": {
    "tags": [
     "hide-input",
     "hide-output"
    ]
   },
   "outputs": [],
   "source": [
    "import matplotlib.pyplot as plt\n",
    "%matplotlib inline\n",
    "import matplotlib_inline\n",
    "matplotlib_inline.backend_inline.set_matplotlib_formats('png')\n",
    "import seaborn as sns\n",
    "sns.set_context(\"paper\")\n",
    "sns.set_style(\"ticks\");"
   ]
  },
  {
   "cell_type": "markdown",
   "metadata": {},
   "source": [
    "# Homework 7 - TEMPLATE - DO NOT DO IT YET\n",
    "\n",
    "## References\n",
    "\n",
    "+ Module 6: Physics-informed neural networks\n",
    "   - PINNs basics\n",
    "   - PINNs for parametric studies\n",
    "   - PINNs for inverse problems\n",
    "+ Module 7: Inverse problems in stochastic scientific models\n",
    "    - Stochastic differential equations\n",
    "\n",
    "## Instructions\n",
    "\n",
    "+ Type your name and email in the \"Student details\" section below.\n",
    "+ Develop the code and generate the figures you need to solve the problems using this notebook.\n",
    "+ For the answers that require a mathematical proof or derivation you should type them using latex. If you have never written latex before and you find it exceedingly difficult, we will likely accept handwritten solutions.\n",
    "+ The total homework points are 100. Please note that the problems are not weighed equally.\n",
    "\n",
    "## Student details\n",
    "\n",
    "+ **First Name:**\n",
    "+ **Last Name:**\n",
    "+ **Email:**\n",
    "+ **Used generative AI to complete this assignment (Yes/No):**\n",
    "+ **Which generative AI tool did you use (if applicable)?:**"
   ]
  },
  {
   "cell_type": "markdown",
   "metadata": {},
   "source": [
    "## Problem 1 - Physics-informed Neural Networks for Solving a Neo-Hookean Hyperelasticity Problem\n",
    "\n",
    "*The original version of this problem was developed by Atharva Hans as a companion to [this](https://youtu.be/o9JaZGWekWQ).\n",
    "\n",
    "Consider a neo-Hookean square body defined on $(x,y) \\in [0,1]^2$. Let $\\mathbf{u}(x,y) = (u_1, u_2)$ describe the displacement field for this body.\n",
    "This body is subjected to the following displacement boundary conditions:\n",
    "\n",
    "$$\n",
    "u_1(0,y) = 0,\n",
    "$$\n",
    "\n",
    "$$\n",
    "u_2(0,y) = 0,\n",
    "$$\n",
    "\n",
    "$$\n",
    "u_1(1,y) = \\delta,\n",
    "$$\n",
    "\n",
    "$$\n",
    "u_2(1,y) = 0,\n",
    "$$\n",
    "\n",
    "with $\\delta$ referring to the applied displacement along the x-direction.\n",
    "\n",
    "For this hyperelastic material, the stored energy $E_b$ in the body can be expressed in as:\n",
    "\n",
    "$$\n",
    "E_b[\\mathbf{u}(\\cdot)] = \\int_{[0,1]^2}\\left\\{\\frac{1}{2}(\\sum_{i=1}^2\\sum_{j=1}^2{F_{ij}^2} - 2)- \\ln(\\det(\\mathbf{F})) + 50\\ln(\\det(\\mathbf{F}))^2\\right\\} dxdy,\n",
    "$$\n",
    "\n",
    "with\n",
    "\n",
    "$$\n",
    "\\mathbf{F} = \\mathbf{I} + \\nabla \\mathbf{u},\n",
    "$$\n",
    "\n",
    "where $\\mathbf{I}$ is an identity matrix.\n",
    "\n",
    "The final orientation of this body is described by a displacement field that minimizes the stored energy $E_b$.\n",
    "The idea is to use a neural network to approximate the displacement field and train it by minimizing the stored energy $E_b$.\n",
    "\n",
    "To automatically satisfy the boundary conditions, we will use this approximation:\n",
    "$$\n",
    "u_1(x,y) = \\delta - \\delta(1-x) + x(1-x)N_1(x,y;\\theta),\n",
    "$$\n",
    "and,\n",
    "$$\n",
    "u_2(x,y) = x(1-x)N_2(x,y;\\theta)\n",
    "$$\n",
    "where $N_1(x,y;\\theta)$ and $N_2(x,y;\\theta)$ are neural networks.\n",
    "\n",
    "## Part A\n",
    "\n",
    "Solve the problem above for $\\delta=0.1$ using a physics-informed neural network (PINN).\n",
    "Use separate neural networks for $N_1(x,y;\\theta)$ and $N_2(x,y;\\theta)$.\n",
    "Start with a multi-layer perceptron with 3 hidden layers, each with 128 units, and tanh activations.\n",
    "Add a Fourier feature layer at the beginning of the network.\n",
    "Feel free to change the architecture if you think it is necessary.\n",
    "\n",
    "Use `equinox` for the neural networks and `optax` for the optimization.\n",
    "Use a sampling average of 32 collocation points to compute the integral of the stored energy.\n",
    "Use the Adam optimizer with a learning rate of 0.001 for 1000 iterations to debug.\n",
    "Feel free to play with the learning rate, the number of collocation points, and the number of iterations.\n",
    "\n",
    "Show the evolution of the loss function over the iterations.\n",
    "Plot the final displacement field (plot $u_1(x,y)$ and $u_2(x,y)$ separately)."
   ]
  },
  {
   "cell_type": "markdown",
   "metadata": {},
   "source": [
    "*Put your answer here. Use as many markdown and code blocks as you want.*"
   ]
  },
  {
   "cell_type": "code",
   "execution_count": null,
   "metadata": {},
   "outputs": [],
   "source": [
    "# your code here"
   ]
  },
  {
   "cell_type": "markdown",
   "metadata": {},
   "source": [
    "## Part B\n",
    "\n",
    "Solve the problem for $\\delta=0.5$ using the same architecture as above.\n",
    "It will likely fail to train.\n",
    "If yes, then use the solution of $\\delta=0.1$ as the initial guess for $\\delta=0.2$, and then use the solution of $\\delta=0.2$ as the initial guess for $\\delta=0.3$, and so on, until you reach $\\delta=0.5$.\n",
    "This is called transfer learning.\n",
    "\n",
    "At the end, plot the final displacement field for $\\delta=0.5$."
   ]
  },
  {
   "cell_type": "markdown",
   "metadata": {},
   "source": [
    "*Put your answer here. Use as many markdown and code blocks as you want.*"
   ]
  },
  {
   "cell_type": "code",
   "execution_count": null,
   "metadata": {},
   "outputs": [],
   "source": [
    "# your code here"
   ]
  },
  {
   "cell_type": "markdown",
   "metadata": {},
   "source": [
    "## Part C\n",
    "\n",
    "Solve the parametric problem for $\\delta \\in [0,0.5]$. That is, build a neural network that takes $\\delta$ as input and outputs the displacement field. To do this:\n",
    "+ Modify the loss function to:\n",
    "\n",
    "$$\n",
    "\\mathcal{L} = \\int_0^{0.5} \\int_{[0,1]^2} \\left\\{\\frac{1}{2}(\\sum_{i}\\sum_{j}{F_{ij}^2} - 2)- \\ln(\\det(\\mathbf{F})) + 50\\ln(\\det(\\mathbf{F}))^2\\right\\} dxdy d\\delta.\n",
    "$$\n",
    "\n",
    "+ Modify the neural networks to take $\\delta$ as input, say $N_1(x,y;\\delta;\\theta)$ and $N_2(x,y;\\delta;\\theta)$. Your field will be $\\mathbf{u}(x,y;\\delta;\\theta)$.\n",
    "Use the following architecture for the neural networks:\n",
    "\n",
    "$$\n",
    "N_1(x,y;\\delta) = \\sum_{i=1}^n b_{1,i}(\\delta)t_{1,i}(x,y).\n",
    "$$\n",
    "\n",
    "Here, $n$ is your choice (start with $n=10$), $b_{1,i}$ is a neural network that takes $\\delta$ as input and outputs a scalar, and $t_{1,i}(x,y)$ is a multi-layer perceptron with 3 hidden layers, each with 128 units, and tanh activations, and Fourier features at the beginning. The same applies to $N_2(x,y;\\delta)$. This representation resembles an expansion in terms of basis functions.\n",
    "The same architecture appears in DeepONet.\n",
    "\n",
    "Plot the $x$ and $y$ displacement at $x=0.5, y=0.5$ as a function of $\\delta$."
   ]
  },
  {
   "cell_type": "code",
   "execution_count": null,
   "metadata": {},
   "outputs": [],
   "source": [
    "import numpy as np\n",
    "import scipy\n",
    "\n",
    "sigma = 10.0\n",
    "rho = 28.0\n",
    "beta = 8.0 / 3.0\n",
    "dt = 0.01\n",
    "num_steps = int(20.0 / dt)\n",
    "ts = np.linspace(0, 100, num_steps)\n",
    "x0 = np.array([-8.0, 7.0, 27.0])\n",
    "\n",
    "def vector_field(x, t):\n",
    "    return (\n",
    "        sigma * (x[1] - x[0]),\n",
    "        x[0] * (rho - x[2]) - x[1],\n",
    "        x[0] * x[1] - beta * x[2]\n",
    "    )\n",
    "xs = scipy.integrate.odeint(vector_field, x0, ts)\n",
    "\n",
    "# Find the exact derivatives - no noise\n",
    "from jax import vmap, jit\n",
    "vf = jit(vmap(vector_field, in_axes=(0, 0)))\n",
    "dxs = np.array(vf(xs, ts))"
   ]
  },
  {
   "cell_type": "markdown",
   "metadata": {},
   "source": [
    "The data you should use are these:"
   ]
  },
  {
   "cell_type": "code",
   "execution_count": null,
   "metadata": {},
   "outputs": [],
   "source": [
    "partial_xs = xs[:, 0]\n",
    "partial_dxs = dxs[:, 0]"
   ]
  },
  {
   "cell_type": "markdown",
   "metadata": {},
   "source": [
    "## Part A - Applying SINDY on a partially observed system\n",
    "\n",
    "Try to apply SINDY on `partial_xs` and `partial_dxs`.\n",
    "Just try to express the right-hand-side of the dynamics using a high order polynomial.\n",
    "Do not use anything fancier as there is no way this can work.\n",
    "Demonstrate using some validation data that this doesn't work.\n",
    "\n",
    "**Answer:**"
   ]
  },
  {
   "cell_type": "code",
   "execution_count": null,
   "metadata": {},
   "outputs": [],
   "source": [
    "# as many code blocks and markdown blocks as you want"
   ]
  },
  {
   "cell_type": "markdown",
   "metadata": {},
   "source": [
    "## Part B - The Hankel Matrix\n",
    "\n",
    "Part A failed because we tried to fit Markovian dynamics to a partially observed state.\n",
    "There are no Markovian dynamics for partially observed states.\n",
    "Partially observed states exhibit effective dynamics that appear to have memory (and noise).\n",
    "The Hankel matrix is a way to create variables that account for memory.\n",
    "We will try two variations.\n",
    "First, we will just try to learn dynamics directly on the columns of the Hankel matrix.\n",
    "This is not going to work if the memory we need is long.\n",
    "Then, we will use SVD to reduce the dimensionality of the Hankel matrix before attempting to learn the dynamics.\n",
    "\n",
    "Your data are $x(t_1),\\dots,x(t_m)$.\n",
    "The Hankel matrix is:\n",
    "\n",
    "$$\n",
    "\\mathbf{H}_\\ell = \\begin{bmatrix}\n",
    "x(t_1) & x(t_2) & x(t_3) & \\dots x(t_{m-\\ell})\\\\\n",
    "x(t_2) & x(t_3) & x(t_4) & \\dots x(t_{m-\\ell+1})\\\\\n",
    "\\vdots & \\vdots & \\vdots & \\dots \\vdots\\\\\n",
    "x(t_\\ell) & x(t_{\\ell+1}) & x(t_{\\ell+3}) \\dots & x(t_m)\n",
    "\\end{bmatrix}\n",
    "$$\n",
    "\n",
    "Write a function that forms the Hankel matrix given the data and $\\ell$.\n",
    "\n",
    "**Answer:**"
   ]
  },
  {
   "cell_type": "code",
   "execution_count": null,
   "metadata": {},
   "outputs": [],
   "source": [
    "def make_hankel(xs, ell):\n",
    "    \"\"\"Write a good docstring.\"\"\"\n",
    "    # write your code here\n",
    "    pass"
   ]
  },
  {
   "cell_type": "markdown",
   "metadata": {},
   "source": [
    "## Part C - Apply SINDY on the Hankel matrix\n",
    "\n",
    "Form the Hankel matrices for $x(t)$ and $\\dot{x}(t)$ for $\\ell=5$.\n",
    "Try to represent the dynamics with a third degree polynomial.\n",
    "Validate your results.\n",
    "Do not expect this work very well.\n",
    "\n",
    "**Answer:**"
   ]
  },
  {
   "cell_type": "code",
   "execution_count": null,
   "metadata": {},
   "outputs": [],
   "source": [
    "# as many code blocks and markdown blocks as you want"
   ]
  },
  {
   "cell_type": "markdown",
   "metadata": {},
   "source": [
    "## Part D - Do SVD on the Hankel matrix\n",
    "\n",
    "Let's pick a big $\\ell$. Say $\\ell = 100$:\n",
    "+ Form the corresponding Hankel matrix and then do SVD on it.\n",
    "+ Plot the explained variance as a function of the number of singular values.\n",
    "+ How much variance do you explain with three dimensions (this is the intrinsic dimensionality of the dynamical system)?\n",
    "+ Visualize the first three POD modes.\n",
    "+ Project the Hankel matrix columns to three dimensions (POD amplitudes/principal components).\n",
    "+ Plot the time series of each one of the principal components.\n",
    "+ Plot the 3D trajectory of the principal components.\n",
    "\n",
    "**Answer:**"
   ]
  },
  {
   "cell_type": "code",
   "execution_count": null,
   "metadata": {},
   "outputs": [],
   "source": [
    "# as many code blocks and markdown blocks as you want"
   ]
  },
  {
   "cell_type": "markdown",
   "metadata": {},
   "source": [
    "## Part E - Find the time derivatives of the principal components of the Hankel matrix\n",
    "\n",
    "To do SINDY, we need to have time derivatives.\n",
    "So, you have to find the time derivatives of the principal components of the Hankel matrix.\n",
    "You have two options:\n",
    "+ Work out analytically how the observed `partial_dxs` will project on the POD modes, or;\n",
    "+ Use numerical differentiation to find the required time derivatives (Google around for the best Python library for numerical differentiation). In this case, simple finite differences should work.\n",
    "\n",
    "**Answer:**"
   ]
  },
  {
   "cell_type": "code",
   "execution_count": null,
   "metadata": {},
   "outputs": [],
   "source": [
    "# as many code blocks and markdown blocks as you want"
   ]
  },
  {
   "cell_type": "markdown",
   "metadata": {},
   "source": [
    "## Part F - Do SINDY on the principal components of the Hankel matrix\n",
    "\n",
    "You are now ready to do SINDY on the principal components of the Hankel matrix.\n",
    "Use a polynomial of degree 5 as the right-hand-side.\n",
    "Try to validate your results.\n",
    "\n",
    "**Answer:**"
   ]
  },
  {
   "cell_type": "code",
   "execution_count": null,
   "metadata": {},
   "outputs": [],
   "source": [
    "# as many code blocks and markdown blocks as you want"
   ]
  },
  {
   "cell_type": "markdown",
   "metadata": {},
   "source": [
    "# Problem 2 - SINDY with measurement noise and no derivatives\n",
    "\n",
    "Let's get back to the Lorenz system. This time, we are going to assume that we have access to the full state, but we do not have the derivative, and the measurements are corrupted by noise.\n",
    "So, your available data are:"
   ]
  },
  {
   "cell_type": "code",
   "execution_count": null,
   "metadata": {},
   "outputs": [],
   "source": [
    "eta = 0.01\n",
    "noisy_x = xs + eta * np.random.normal(0, 1.0, xs.shape)"
   ]
  },
  {
   "cell_type": "markdown",
   "metadata": {},
   "source": [
    "Review the package [derivative](https://pypi.org/project/derivative/) (which part of the `pysindy` ecosystem) and:\n",
    "- Use a suitable method to estimate the derivative dx/dt from the noisy data `noisy_xs`.\n",
    "- Apply SINDY to the denoised data and the numerical derivatives.\n",
    "- Validate your results.\n",
    "\n",
    "**Answer:**"
   ]
  }
 ],
 "metadata": {
  "language_info": {
   "name": "python"
  }
 },
 "nbformat": 4,
 "nbformat_minor": 2
}
