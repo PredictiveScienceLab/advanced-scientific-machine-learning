{
 "cells": [
  {
   "cell_type": "code",
   "execution_count": 1,
   "metadata": {},
   "outputs": [],
   "source": [
    "import matplotlib.pyplot as plt\n",
    "%matplotlib inline\n",
    "import matplotlib_inline\n",
    "matplotlib_inline.backend_inline.set_matplotlib_formats('svg')\n",
    "import seaborn as sns\n",
    "sns.set_context(\"paper\")\n",
    "sns.set_style(\"ticks\");"
   ]
  },
  {
   "cell_type": "markdown",
   "metadata": {},
   "source": [
    "# Singular Value Decomposition\n",
    "\n",
    "Singular value decomposition (SVD) is a factorization of a matrix into three matrices. It is used in many applications such as data compression, denoising, and solving linear systems of equations. In scientific machine learning, it is used in principal component analysis (PCA), Karhunen-Loève transform, dynamic mode decomposition, and proper orthogonal decomposition.\n",
    "\n",
    "More details on the theory can be found on the book [Data-driven Science and Engineering](https://databookuw.com/).\n",
    "\n",
    "Let $\\mathbf{X}$ be an $n \\times m$ matrix.\n",
    "Think of $\\mathbf{X}$ as matrix you can make when doing $n$ experiments and measuring $m$ different things.\n",
    "The SVD of $\\mathbf{X}$ is given by\n",
    "\n",
    "$$\n",
    "\\mathbf{X} = \\mathbf{U} \\mathbf{\\Sigma} \\mathbf{V}^T\n",
    "$$\n",
    "\n",
    "where $\\mathbf{U}$ is an $n \\times n$ orthogonal matrix, $\\mathbf{\\Sigma}$ is an $n \\times m$ matrix with non-negative real numbers on the diagonal and zeros elsewhere, and $\\mathbf{V}$ is an $m \\times m$ orthogonal matrix.\n",
    "\n",
    "## Economy-size SVD\n",
    "Assume that $n \\geq m$.\n",
    "Then, $\\mathbf{\\Sigma}$ has the form:\n",
    "\n",
    "$$\n",
    "\\mathbf{\\Sigma} = \\begin{bmatrix}\n",
    "\\hat{\\mathbf{\\Sigma}} \\\\\n",
    "\\mathbf{0}\n",
    "\\end{bmatrix},\n",
    "$$\n",
    "\n",
    "where $\\hat{\\mathbf{\\Sigma}}$ is an $m \\times m$ diagonal matrix with non-negative real numbers on the diagonal and zeros elsewhere, and $\\mathbf{0}$ is an $(n-m) \\times m$ matrix with zeros.\n",
    "Now, only the first $m$ columns of $\\mathbf{U}$ are needed to represent $\\mathbf{X}$.\n",
    "We write the **economy-size** SVD as:\n",
    "\n",
    "$$\n",
    "\\mathbf{X} = \\mathbf{U}_m \\hat{\\mathbf{\\Sigma}} \\mathbf{V}^T,\n",
    "$$\n",
    "\n",
    "where $\\mathbf{U}_m$ is an $n \\times m$ matrix with the first $m$ columns of $\\mathbf{U}$.\n",
    "\n",
    "## Truncated SVD\n",
    "\n",
    "The truncated SVD is a low-rank approximation of $\\mathbf{X}$.\n",
    "It is given by:\n",
    "\n",
    "$$\n",
    "\\mathbf{X} \\approx \\mathbf{U}_k \\hat{\\mathbf{\\Sigma}}_k \\mathbf{V}_k^T,\n",
    "$$\n",
    "\n",
    "where $\\mathbf{U}_k$ is an $n \\times k$ matrix with the first $k$ columns of $\\mathbf{U}$, $\\hat{\\mathbf{\\Sigma}}_k$ is a $k \\times k$ diagonal matrix with the first $k$ singular values of $\\mathbf{\\Sigma}$, and $\\mathbf{V}_k$ is an $m \\times k$ matrix with the first $k$ columns of $\\mathbf{V}$.\n",
    "\n",
    "We can also write:\n",
    "\n",
    "$$\n",
    "\\mathbf{X} \\approx \\mathbf{X}_k = \\sum_{i=1}^k \\sigma_i \\mathbf{u}_i \\mathbf{v}_i^T,\n",
    "$$\n",
    "\n",
    "where $\\sigma_i$ is the $i$-th singular value, and $\\mathbf{u}_i$ and $\\mathbf{v}_i$ are the $i$-th columns of $\\mathbf{U}$ and $\\mathbf{V}$, respectively.\n",
    "\n",
    "One can show that the matrix $\\mathbf{X}_k$ is the best rank-$k$ approximation of $\\mathbf{X}$ in the Frobenius norm."
   ]
  },
  {
   "cell_type": "code",
   "execution_count": null,
   "metadata": {},
   "outputs": [],
   "source": []
  }
 ],
 "metadata": {
  "kernelspec": {
   "display_name": "Python 3",
   "language": "python",
   "name": "python3"
  },
  "language_info": {
   "codemirror_mode": {
    "name": "ipython",
    "version": 3
   },
   "file_extension": ".py",
   "mimetype": "text/x-python",
   "name": "python",
   "nbconvert_exporter": "python",
   "pygments_lexer": "ipython3",
   "version": "3.11.6"
  }
 },
 "nbformat": 4,
 "nbformat_minor": 2
}
