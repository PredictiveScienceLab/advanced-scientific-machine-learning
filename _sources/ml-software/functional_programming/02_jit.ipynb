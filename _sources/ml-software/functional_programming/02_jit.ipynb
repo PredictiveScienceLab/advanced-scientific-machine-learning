{
 "cells": [
  {
   "cell_type": "markdown",
   "metadata": {},
   "source": [
    "# Just in Time Compilation\n",
    "\n",
    "It is no secret that Python is slow. It is an interpreted language, and it is dynamically typed. This means that the Python interpreter has to do a lot of work to figure out what your code is doing, and then it has to do a lot of work to actually do it. This is in contrast to a language like C, which is statically typed and compiled. In C, the compiler knows exactly what your code is doing, and it can generate machine code that does exactly that. This is why C is so much faster than Python.\n",
    "\n",
    "In the past, the solution to this problem was to write the slow parts of your code in C, and then call them from Python. This is what libraries like NumPy and SciPy do. However, this is a lot of work, and it is easy to make mistakes. It would be nice if we could just write our code in Python, and have it run as fast as C. This is where just-in-time (JIT) compilers come in.\n",
    "\n",
    "A JIT compiler is a compiler that runs at runtime. It takes your Python code, and it compiles it to machine code. This is then executed by the CPU or GPU. Jax is a library that provides a JIT compiler for Python. It is built on top of XLA, which is a compiler for linear algebra operations developed by Google. Jax is designed to be used with NumPy, and it provides a NumPy-like API. This means that you can use Jax to speed up your NumPy code without having to rewrite it.\n",
    "\n",
    "Let's look at some examples."
   ]
  },
  {
   "cell_type": "code",
   "execution_count": 3,
   "metadata": {},
   "outputs": [],
   "source": [
    "import jax\n",
    "import jax.numpy as jnp"
   ]
  },
  {
   "cell_type": "markdown",
   "metadata": {},
   "source": [
    "Here is a simple mathematical function:"
   ]
  },
  {
   "cell_type": "code",
   "execution_count": 4,
   "metadata": {},
   "outputs": [],
   "source": [
    "f = lambda x: jnp.sin(x) + jnp.cos(x)"
   ]
  },
  {
   "cell_type": "markdown",
   "metadata": {},
   "source": [
    "To compile it with Jax, we just need to do this:"
   ]
  },
  {
   "cell_type": "code",
   "execution_count": 5,
   "metadata": {},
   "outputs": [],
   "source": [
    "f_jit = jax.jit(f)"
   ]
  },
  {
   "cell_type": "markdown",
   "metadata": {},
   "source": [
    "You can also `jit` using decorators:"
   ]
  },
  {
   "cell_type": "code",
   "execution_count": 10,
   "metadata": {},
   "outputs": [],
   "source": [
    "@jax.jit\n",
    "def f_jit2(x):\n",
    "    return jnp.sin(x) + jnp.cos(x)"
   ]
  },
  {
   "cell_type": "markdown",
   "metadata": {},
   "source": [
    "There are no real benefits in this case, because the function is so simple. However, when we `jit` bigger chunks of code, e.g., the update step in the training loop of a neural network, we can see a significant speedup.\n",
    "We will have the chance to observe the speedup in subsequent lectures.\n",
    "\n",
    "## You can only `jit` pure functions\n",
    "No side effects are allowed.\n",
    "Here is an example of what may happen when you have side effects:"
   ]
  },
  {
   "cell_type": "code",
   "execution_count": 11,
   "metadata": {},
   "outputs": [],
   "source": [
    "@jax.jit\n",
    "def bad_f(x):\n",
    "    print(\"I have side effects!\")\n",
    "    return jnp.sin(x) + jnp.cos(x) + x"
   ]
  },
  {
   "cell_type": "markdown",
   "metadata": {},
   "source": [
    "First time we call the function, it works as expected."
   ]
  },
  {
   "cell_type": "code",
   "execution_count": 12,
   "metadata": {},
   "outputs": [
    {
     "name": "stdout",
     "output_type": "stream",
     "text": [
      "I have side effects!\n"
     ]
    },
    {
     "data": {
      "text/plain": [
       "Array(2.4931505, dtype=float32, weak_type=True)"
      ]
     },
     "execution_count": 12,
     "metadata": {},
     "output_type": "execute_result"
    }
   ],
   "source": [
    "bad_f(2)"
   ]
  },
  {
   "cell_type": "markdown",
   "metadata": {},
   "source": [
    "Bad the second time we call it, nothing is printed."
   ]
  },
  {
   "cell_type": "code",
   "execution_count": 13,
   "metadata": {},
   "outputs": [
    {
     "data": {
      "text/plain": [
       "Array(2.4931505, dtype=float32, weak_type=True)"
      ]
     },
     "execution_count": 13,
     "metadata": {},
     "output_type": "execute_result"
    }
   ],
   "source": [
    "bad_f(2)"
   ]
  },
  {
   "cell_type": "markdown",
   "metadata": {},
   "source": [
    "Here is what is happening.\n",
    "The first time we run the function, Jax parses it, looks for all the mathematical operations, and compiles them to machine code.\n",
    "By the way, it also prints the string.\n",
    "The second time we run the function, Jax does not parse it again, because it has already done that.\n",
    "It just runs the machine code.\n",
    "It does not print the string, because it is not part of the mathematical operations."
   ]
  },
  {
   "cell_type": "markdown",
   "metadata": {},
   "source": [
    "## Be careful with loops\n",
    "\n",
    "`jit` works with loops, but only if the have a fixed number of iterations that is known at compile time.\n",
    "This is because `jit` needs to know how many times to unroll the loop.\n",
    "Unrolling a loop means replacing it with a sequence of instructions that perform the same operations as the loop.\n",
    "\n",
    "Here is an example:"
   ]
  },
  {
   "cell_type": "code",
   "execution_count": 14,
   "metadata": {},
   "outputs": [],
   "source": [
    "@jax.jit\n",
    "def f_loop(x):\n",
    "    y = 0.\n",
    "    for i in range(10):\n",
    "        y = y + x\n",
    "    return y"
   ]
  },
  {
   "cell_type": "markdown",
   "metadata": {},
   "source": [
    "This works fine:"
   ]
  },
  {
   "cell_type": "code",
   "execution_count": 16,
   "metadata": {},
   "outputs": [
    {
     "data": {
      "text/plain": [
       "Array(20., dtype=float32, weak_type=True)"
      ]
     },
     "execution_count": 16,
     "metadata": {},
     "output_type": "execute_result"
    }
   ],
   "source": [
    "f_loop(2)"
   ]
  },
  {
   "cell_type": "markdown",
   "metadata": {},
   "source": [
    "This does not work:"
   ]
  },
  {
   "cell_type": "code",
   "execution_count": 17,
   "metadata": {},
   "outputs": [],
   "source": [
    "@jax.jit\n",
    "def f_loop(x, n):\n",
    "    y = 0.\n",
    "    for i in range(n):\n",
    "        y = y + x\n",
    "    return y"
   ]
  },
  {
   "cell_type": "code",
   "execution_count": 18,
   "metadata": {
    "tags": [
     "hide-output"
    ]
   },
   "outputs": [
    {
     "ename": "TracerIntegerConversionError",
     "evalue": "The __index__() method was called on traced array with shape int32[].\nThe error occurred while tracing the function f_loop at /var/folders/5y/28n32xmx0551k29hd21qs87c0000gp/T/ipykernel_41459/3023811968.py:1 for jit. This concrete value was not available in Python because it depends on the value of the argument n.\nSee https://jax.readthedocs.io/en/latest/errors.html#jax.errors.TracerIntegerConversionError",
     "output_type": "error",
     "traceback": [
      "\u001b[0;31m---------------------------------------------------------------------------\u001b[0m",
      "\u001b[0;31mTracerIntegerConversionError\u001b[0m              Traceback (most recent call last)",
      "\u001b[1;32m/Users/ibilion/Dropbox/Teaching/S2024/ME697/scientific-machine-learning/learning/jit.ipynb Cell 22\u001b[0m line \u001b[0;36m1\n\u001b[0;32m----> <a href='vscode-notebook-cell:/Users/ibilion/Dropbox/Teaching/S2024/ME697/scientific-machine-learning/learning/jit.ipynb#X31sZmlsZQ%3D%3D?line=0'>1</a>\u001b[0m f_loop(\u001b[39m2\u001b[39;49m, \u001b[39m10\u001b[39;49m)\n",
      "    \u001b[0;31m[... skipping hidden 12 frame]\u001b[0m\n",
      "\u001b[1;32m/Users/ibilion/Dropbox/Teaching/S2024/ME697/scientific-machine-learning/learning/jit.ipynb Cell 22\u001b[0m line \u001b[0;36m4\n\u001b[1;32m      <a href='vscode-notebook-cell:/Users/ibilion/Dropbox/Teaching/S2024/ME697/scientific-machine-learning/learning/jit.ipynb#X31sZmlsZQ%3D%3D?line=0'>1</a>\u001b[0m \u001b[39m@jax\u001b[39m\u001b[39m.\u001b[39mjit\n\u001b[1;32m      <a href='vscode-notebook-cell:/Users/ibilion/Dropbox/Teaching/S2024/ME697/scientific-machine-learning/learning/jit.ipynb#X31sZmlsZQ%3D%3D?line=1'>2</a>\u001b[0m \u001b[39mdef\u001b[39;00m \u001b[39mf_loop\u001b[39m(x, n):\n\u001b[1;32m      <a href='vscode-notebook-cell:/Users/ibilion/Dropbox/Teaching/S2024/ME697/scientific-machine-learning/learning/jit.ipynb#X31sZmlsZQ%3D%3D?line=2'>3</a>\u001b[0m     y \u001b[39m=\u001b[39m \u001b[39m0.\u001b[39m\n\u001b[0;32m----> <a href='vscode-notebook-cell:/Users/ibilion/Dropbox/Teaching/S2024/ME697/scientific-machine-learning/learning/jit.ipynb#X31sZmlsZQ%3D%3D?line=3'>4</a>\u001b[0m     \u001b[39mfor\u001b[39;00m i \u001b[39min\u001b[39;00m \u001b[39mrange\u001b[39;49m(n):\n\u001b[1;32m      <a href='vscode-notebook-cell:/Users/ibilion/Dropbox/Teaching/S2024/ME697/scientific-machine-learning/learning/jit.ipynb#X31sZmlsZQ%3D%3D?line=4'>5</a>\u001b[0m         y \u001b[39m=\u001b[39m y \u001b[39m+\u001b[39m x\n\u001b[1;32m      <a href='vscode-notebook-cell:/Users/ibilion/Dropbox/Teaching/S2024/ME697/scientific-machine-learning/learning/jit.ipynb#X31sZmlsZQ%3D%3D?line=5'>6</a>\u001b[0m     \u001b[39mreturn\u001b[39;00m y\n",
      "    \u001b[0;31m[... skipping hidden 1 frame]\u001b[0m\n",
      "File \u001b[0;32m~/.pyenv/versions/3.11.6/lib/python3.11/site-packages/jax/_src/core.py:1446\u001b[0m, in \u001b[0;36mconcretization_function_error.<locals>.error\u001b[0;34m(self, arg)\u001b[0m\n\u001b[1;32m   1445\u001b[0m \u001b[39mdef\u001b[39;00m \u001b[39merror\u001b[39m(\u001b[39mself\u001b[39m, arg):\n\u001b[0;32m-> 1446\u001b[0m   \u001b[39mraise\u001b[39;00m TracerIntegerConversionError(arg)\n",
      "\u001b[0;31mTracerIntegerConversionError\u001b[0m: The __index__() method was called on traced array with shape int32[].\nThe error occurred while tracing the function f_loop at /var/folders/5y/28n32xmx0551k29hd21qs87c0000gp/T/ipykernel_41459/3023811968.py:1 for jit. This concrete value was not available in Python because it depends on the value of the argument n.\nSee https://jax.readthedocs.io/en/latest/errors.html#jax.errors.TracerIntegerConversionError"
     ]
    }
   ],
   "source": [
    "f_loop(2, 10)"
   ]
  },
  {
   "cell_type": "markdown",
   "metadata": {},
   "source": [
    "To make it work, we must tell Jax that the second argument to `f_loop` is a constant.\n",
    "It should not trace it.\n",
    "Here is how we can make it work:"
   ]
  },
  {
   "cell_type": "code",
   "execution_count": 21,
   "metadata": {},
   "outputs": [],
   "source": [
    "import functools as ft\n",
    "\n",
    "@ft.partial(jax.jit, static_argnums=(1,))\n",
    "def f_loop(x, n):\n",
    "    y = 0.\n",
    "    for i in range(n):\n",
    "        y = y + x\n",
    "    return y"
   ]
  },
  {
   "cell_type": "markdown",
   "metadata": {},
   "source": [
    "Recall that the `partial` is fixing one of the arguments of `jax.jit`.\n",
    "That argument is `static_argnums` which is a tuple of integers corresponding to the indices of the arguments that are static (i.e., not traced).\n",
    "\n",
    "So it works:"
   ]
  },
  {
   "cell_type": "code",
   "execution_count": 22,
   "metadata": {},
   "outputs": [
    {
     "data": {
      "text/plain": [
       "Array(20., dtype=float32, weak_type=True)"
      ]
     },
     "execution_count": 22,
     "metadata": {},
     "output_type": "execute_result"
    }
   ],
   "source": [
    "f_loop(2, 10)"
   ]
  },
  {
   "cell_type": "markdown",
   "metadata": {},
   "source": [
    "However, there is a catch. The code is recomplied every time we call `f_loop` with a different value of `n`.\n",
    "This, for example, triggers a recompilation:"
   ]
  },
  {
   "cell_type": "code",
   "execution_count": 24,
   "metadata": {},
   "outputs": [
    {
     "data": {
      "text/plain": [
       "Array(22., dtype=float32, weak_type=True)"
      ]
     },
     "execution_count": 24,
     "metadata": {},
     "output_type": "execute_result"
    }
   ],
   "source": [
    "f_loop(2, 11)"
   ]
  },
  {
   "cell_type": "markdown",
   "metadata": {},
   "source": [
    "This is okay if we are going to call `f_loop` with only a few different values of `n`.\n",
    "But is is not okay if we are going to call `f_loop` with many different `n`s.\n",
    "\n",
    "If we want to avoid the recompilation, we need to use LAX control flow primitives.\n",
    "LAX is the low-level API of Jax.\n",
    "In particular, we need to use [`lax.fori_loop`](https://jax.readthedocs.io/en/latest/_autosummary/jax.lax.fori_loop.html#jax.lax.fori_loop)."
   ]
  },
  {
   "cell_type": "code",
   "execution_count": 30,
   "metadata": {},
   "outputs": [],
   "source": [
    "from jax import lax\n",
    "\n",
    "@jax.jit\n",
    "def f_loop(x, n):\n",
    "    return lax.fori_loop(0, n, lambda i, y: y + x, 0.)"
   ]
  },
  {
   "cell_type": "markdown",
   "metadata": {},
   "source": [
    "But you cannot call this function directly with Python scalars because `lax` sits at a lower level than `jax.numpy`.\n",
    "You need to first convert the scalars to Jax arrays using `jax.numpy.array`.\n",
    "Here is the correct call:"
   ]
  },
  {
   "cell_type": "code",
   "execution_count": 35,
   "metadata": {},
   "outputs": [
    {
     "data": {
      "text/plain": [
       "Array(30., dtype=float32, weak_type=True)"
      ]
     },
     "execution_count": 35,
     "metadata": {},
     "output_type": "execute_result"
    }
   ],
   "source": [
    "f_loop(jnp.array(2), 15)"
   ]
  },
  {
   "cell_type": "markdown",
   "metadata": {},
   "source": [
    "Other useful LAX loop functions are [`lax.while_loop`](https://jax.readthedocs.io/en/latest/_autosummary/jax.lax.while_loop.html#jax.lax.while_loop) and [`lax.scan`](https://jax.readthedocs.io/en/latest/_autosummary/jax.lax.scan.html#jax.lax.scan).\n",
    "Let's see examples for both."
   ]
  },
  {
   "cell_type": "code",
   "execution_count": 59,
   "metadata": {
    "tags": [
     "hide-output"
    ]
   },
   "outputs": [
    {
     "ename": "TracerBoolConversionError",
     "evalue": "Attempted boolean conversion of traced array with shape bool[]..\nThe error occurred while tracing the function sum_up_to at /var/folders/5y/28n32xmx0551k29hd21qs87c0000gp/T/ipykernel_41459/3314571921.py:1 for jit. This concrete value was not available in Python because it depends on the value of the argument x.\nSee https://jax.readthedocs.io/en/latest/errors.html#jax.errors.TracerBoolConversionError",
     "output_type": "error",
     "traceback": [
      "\u001b[0;31m---------------------------------------------------------------------------\u001b[0m",
      "\u001b[0;31mTracerBoolConversionError\u001b[0m                 Traceback (most recent call last)",
      "\u001b[1;32m/Users/ibilion/Dropbox/Teaching/S2024/ME697/scientific-machine-learning/learning/jit.ipynb Cell 34\u001b[0m line \u001b[0;36m1\n\u001b[1;32m      <a href='vscode-notebook-cell:/Users/ibilion/Dropbox/Teaching/S2024/ME697/scientific-machine-learning/learning/jit.ipynb#X45sZmlsZQ%3D%3D?line=6'>7</a>\u001b[0m         s \u001b[39m+\u001b[39m\u001b[39m=\u001b[39m n\n\u001b[1;32m      <a href='vscode-notebook-cell:/Users/ibilion/Dropbox/Teaching/S2024/ME697/scientific-machine-learning/learning/jit.ipynb#X45sZmlsZQ%3D%3D?line=7'>8</a>\u001b[0m     \u001b[39mreturn\u001b[39;00m s\n\u001b[0;32m---> <a href='vscode-notebook-cell:/Users/ibilion/Dropbox/Teaching/S2024/ME697/scientific-machine-learning/learning/jit.ipynb#X45sZmlsZQ%3D%3D?line=9'>10</a>\u001b[0m sum_up_to(jnp\u001b[39m.\u001b[39;49marray(\u001b[39m5\u001b[39;49m))\n",
      "    \u001b[0;31m[... skipping hidden 12 frame]\u001b[0m\n",
      "\u001b[1;32m/Users/ibilion/Dropbox/Teaching/S2024/ME697/scientific-machine-learning/learning/jit.ipynb Cell 34\u001b[0m line \u001b[0;36m5\n\u001b[1;32m      <a href='vscode-notebook-cell:/Users/ibilion/Dropbox/Teaching/S2024/ME697/scientific-machine-learning/learning/jit.ipynb#X45sZmlsZQ%3D%3D?line=2'>3</a>\u001b[0m s \u001b[39m=\u001b[39m \u001b[39m0.0\u001b[39m\n\u001b[1;32m      <a href='vscode-notebook-cell:/Users/ibilion/Dropbox/Teaching/S2024/ME697/scientific-machine-learning/learning/jit.ipynb#X45sZmlsZQ%3D%3D?line=3'>4</a>\u001b[0m n \u001b[39m=\u001b[39m \u001b[39m0\u001b[39m\n\u001b[0;32m----> <a href='vscode-notebook-cell:/Users/ibilion/Dropbox/Teaching/S2024/ME697/scientific-machine-learning/learning/jit.ipynb#X45sZmlsZQ%3D%3D?line=4'>5</a>\u001b[0m \u001b[39mwhile\u001b[39;00m n \u001b[39m<\u001b[39m x:\n\u001b[1;32m      <a href='vscode-notebook-cell:/Users/ibilion/Dropbox/Teaching/S2024/ME697/scientific-machine-learning/learning/jit.ipynb#X45sZmlsZQ%3D%3D?line=5'>6</a>\u001b[0m     n \u001b[39m+\u001b[39m\u001b[39m=\u001b[39m \u001b[39m1\u001b[39m\n\u001b[1;32m      <a href='vscode-notebook-cell:/Users/ibilion/Dropbox/Teaching/S2024/ME697/scientific-machine-learning/learning/jit.ipynb#X45sZmlsZQ%3D%3D?line=6'>7</a>\u001b[0m     s \u001b[39m+\u001b[39m\u001b[39m=\u001b[39m n\n",
      "    \u001b[0;31m[... skipping hidden 1 frame]\u001b[0m\n",
      "File \u001b[0;32m~/.pyenv/versions/3.11.6/lib/python3.11/site-packages/jax/_src/core.py:1443\u001b[0m, in \u001b[0;36mconcretization_function_error.<locals>.error\u001b[0;34m(self, arg)\u001b[0m\n\u001b[1;32m   1442\u001b[0m \u001b[39mdef\u001b[39;00m \u001b[39merror\u001b[39m(\u001b[39mself\u001b[39m, arg):\n\u001b[0;32m-> 1443\u001b[0m   \u001b[39mraise\u001b[39;00m TracerBoolConversionError(arg)\n",
      "\u001b[0;31mTracerBoolConversionError\u001b[0m: Attempted boolean conversion of traced array with shape bool[]..\nThe error occurred while tracing the function sum_up_to at /var/folders/5y/28n32xmx0551k29hd21qs87c0000gp/T/ipykernel_41459/3314571921.py:1 for jit. This concrete value was not available in Python because it depends on the value of the argument x.\nSee https://jax.readthedocs.io/en/latest/errors.html#jax.errors.TracerBoolConversionError"
     ]
    }
   ],
   "source": [
    "@jax.jit\n",
    "def sum_up_to(x):\n",
    "    s = 0.0\n",
    "    n = 1\n",
    "    while n < x:\n",
    "        s = s + n\n",
    "        n = n + 1\n",
    "    return s\n",
    "\n",
    "sum_up_to(jnp.array(5))"
   ]
  },
  {
   "cell_type": "markdown",
   "metadata": {},
   "source": [
    "But we can write this:"
   ]
  },
  {
   "cell_type": "code",
   "execution_count": 64,
   "metadata": {},
   "outputs": [
    {
     "data": {
      "text/plain": [
       "Array(55, dtype=int32, weak_type=True)"
      ]
     },
     "execution_count": 64,
     "metadata": {},
     "output_type": "execute_result"
    }
   ],
   "source": [
    "@jax.jit\n",
    "def sum_up_to(x):\n",
    "    return lax.while_loop(\n",
    "        lambda c: c[1] <= x,\n",
    "        lambda c: (c[0] + c[1], c[1] + 1),\n",
    "        (0, 1)\n",
    "    )[0]\n",
    "\n",
    "sum_up_to(jnp.array(10))\n"
   ]
  },
  {
   "cell_type": "markdown",
   "metadata": {},
   "source": [
    "## Be careful with conditionals\n"
   ]
  },
  {
   "cell_type": "code",
   "execution_count": 65,
   "metadata": {
    "tags": [
     "hide-output"
    ]
   },
   "outputs": [
    {
     "ename": "TracerBoolConversionError",
     "evalue": "Attempted boolean conversion of traced array with shape bool[]..\nThe error occurred while tracing the function myabs at /var/folders/5y/28n32xmx0551k29hd21qs87c0000gp/T/ipykernel_41459/685382902.py:1 for jit. This concrete value was not available in Python because it depends on the value of the argument x.\nSee https://jax.readthedocs.io/en/latest/errors.html#jax.errors.TracerBoolConversionError",
     "output_type": "error",
     "traceback": [
      "\u001b[0;31m---------------------------------------------------------------------------\u001b[0m",
      "\u001b[0;31mTracerBoolConversionError\u001b[0m                 Traceback (most recent call last)",
      "\u001b[1;32m/Users/ibilion/Dropbox/Teaching/S2024/ME697/scientific-machine-learning/learning/jit.ipynb Cell 38\u001b[0m line \u001b[0;36m8\n\u001b[1;32m      <a href='vscode-notebook-cell:/Users/ibilion/Dropbox/Teaching/S2024/ME697/scientific-machine-learning/learning/jit.ipynb#X53sZmlsZQ%3D%3D?line=4'>5</a>\u001b[0m     \u001b[39melse\u001b[39;00m:\n\u001b[1;32m      <a href='vscode-notebook-cell:/Users/ibilion/Dropbox/Teaching/S2024/ME697/scientific-machine-learning/learning/jit.ipynb#X53sZmlsZQ%3D%3D?line=5'>6</a>\u001b[0m         \u001b[39mreturn\u001b[39;00m \u001b[39m-\u001b[39mx\n\u001b[0;32m----> <a href='vscode-notebook-cell:/Users/ibilion/Dropbox/Teaching/S2024/ME697/scientific-machine-learning/learning/jit.ipynb#X53sZmlsZQ%3D%3D?line=7'>8</a>\u001b[0m myabs(jnp\u001b[39m.\u001b[39;49marray(\u001b[39m-\u001b[39;49m\u001b[39m2\u001b[39;49m))\n",
      "    \u001b[0;31m[... skipping hidden 12 frame]\u001b[0m\n",
      "\u001b[1;32m/Users/ibilion/Dropbox/Teaching/S2024/ME697/scientific-machine-learning/learning/jit.ipynb Cell 38\u001b[0m line \u001b[0;36m3\n\u001b[1;32m      <a href='vscode-notebook-cell:/Users/ibilion/Dropbox/Teaching/S2024/ME697/scientific-machine-learning/learning/jit.ipynb#X53sZmlsZQ%3D%3D?line=0'>1</a>\u001b[0m \u001b[39m@jax\u001b[39m\u001b[39m.\u001b[39mjit\n\u001b[1;32m      <a href='vscode-notebook-cell:/Users/ibilion/Dropbox/Teaching/S2024/ME697/scientific-machine-learning/learning/jit.ipynb#X53sZmlsZQ%3D%3D?line=1'>2</a>\u001b[0m \u001b[39mdef\u001b[39;00m \u001b[39mmyabs\u001b[39m(x):\n\u001b[0;32m----> <a href='vscode-notebook-cell:/Users/ibilion/Dropbox/Teaching/S2024/ME697/scientific-machine-learning/learning/jit.ipynb#X53sZmlsZQ%3D%3D?line=2'>3</a>\u001b[0m     \u001b[39mif\u001b[39;00m x \u001b[39m>\u001b[39m \u001b[39m0\u001b[39m:\n\u001b[1;32m      <a href='vscode-notebook-cell:/Users/ibilion/Dropbox/Teaching/S2024/ME697/scientific-machine-learning/learning/jit.ipynb#X53sZmlsZQ%3D%3D?line=3'>4</a>\u001b[0m         \u001b[39mreturn\u001b[39;00m x\n\u001b[1;32m      <a href='vscode-notebook-cell:/Users/ibilion/Dropbox/Teaching/S2024/ME697/scientific-machine-learning/learning/jit.ipynb#X53sZmlsZQ%3D%3D?line=4'>5</a>\u001b[0m     \u001b[39melse\u001b[39;00m:\n",
      "    \u001b[0;31m[... skipping hidden 1 frame]\u001b[0m\n",
      "File \u001b[0;32m~/.pyenv/versions/3.11.6/lib/python3.11/site-packages/jax/_src/core.py:1443\u001b[0m, in \u001b[0;36mconcretization_function_error.<locals>.error\u001b[0;34m(self, arg)\u001b[0m\n\u001b[1;32m   1442\u001b[0m \u001b[39mdef\u001b[39;00m \u001b[39merror\u001b[39m(\u001b[39mself\u001b[39m, arg):\n\u001b[0;32m-> 1443\u001b[0m   \u001b[39mraise\u001b[39;00m TracerBoolConversionError(arg)\n",
      "\u001b[0;31mTracerBoolConversionError\u001b[0m: Attempted boolean conversion of traced array with shape bool[]..\nThe error occurred while tracing the function myabs at /var/folders/5y/28n32xmx0551k29hd21qs87c0000gp/T/ipykernel_41459/685382902.py:1 for jit. This concrete value was not available in Python because it depends on the value of the argument x.\nSee https://jax.readthedocs.io/en/latest/errors.html#jax.errors.TracerBoolConversionError"
     ]
    }
   ],
   "source": [
    "@jax.jit\n",
    "def myabs(x):\n",
    "    if x > 0:\n",
    "        return x\n",
    "    else:\n",
    "        return -x\n",
    "    \n",
    "myabs(jnp.array(-2))"
   ]
  },
  {
   "cell_type": "markdown",
   "metadata": {},
   "source": [
    "The way out is to use [`lax.cond`](https://jax.readthedocs.io/en/latest/_autosummary/jax.lax.cond.html#jax.lax.cond):"
   ]
  },
  {
   "cell_type": "code",
   "execution_count": 66,
   "metadata": {},
   "outputs": [
    {
     "data": {
      "text/plain": [
       "Array(2, dtype=int32, weak_type=True)"
      ]
     },
     "execution_count": 66,
     "metadata": {},
     "output_type": "execute_result"
    }
   ],
   "source": [
    "@jax.jit\n",
    "def myabs(x):\n",
    "    return lax.cond(\n",
    "        x > 0,          # condition\n",
    "        lambda _: x,    # if true\n",
    "        lambda _: -x,   # if false\n",
    "        None            # operands to pass to the lambda functions (nothing here)\n",
    "    )\n",
    "\n",
    "myabs(jnp.array(-2))"
   ]
  },
  {
   "cell_type": "markdown",
   "metadata": {},
   "source": [
    "Another useful LAX flow control function is [`lax.switch`](https://jax.readthedocs.io/en/latest/_autosummary/jax.lax.switch.html#jax.lax.switch)."
   ]
  }
 ],
 "metadata": {
  "kernelspec": {
   "display_name": "Python 3",
   "language": "python",
   "name": "python3"
  },
  "language_info": {
   "codemirror_mode": {
    "name": "ipython",
    "version": 3
   },
   "file_extension": ".py",
   "mimetype": "text/x-python",
   "name": "python",
   "nbconvert_exporter": "python",
   "pygments_lexer": "ipython3",
   "version": "3.11.6"
  }
 },
 "nbformat": 4,
 "nbformat_minor": 2
}
