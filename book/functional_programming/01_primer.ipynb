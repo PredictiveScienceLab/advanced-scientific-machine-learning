{
 "cells": [
  {
   "cell_type": "markdown",
   "metadata": {},
   "source": [
    "# A Primer on Functional Programming\n",
    "\n",
    "The programming you have been learning so far is called imperative (or procedural) programming. In imperative programming, you tell the computer what to do, step by step. Python, C, C++, Java, and JavaScript are all imperative languages.\n",
    "\n",
    "In contrast, functional programming is a style of programming where you (typically) avoid changing state and mutating data. Instead, you write functions that transform data structures. Functional programming languages include Haskell, Lisp, and Clojure. Some of them allow you to write imperative code as well, but they encourage you to write functional code.\n",
    "\n",
    "Functional programming is a very different way of thinking about programming. It can be hard to wrap your head around at first, but it is worth learning. Functional programming is a powerful tool that can help you write cleaner, more concise, and more maintainable code.\n",
    "\n",
    "You can write functional code in Python, but it is not the default style. In this notebook, we will learn some of the basics of functional programming in Python.\n",
    "\n",
    "Why do we care about functional programming? Because, we will use [Jax](https://jax.readthedocs.io/en/latest/index.html), which is a Python library for differentiable programming and Jax uses a functional programming style."
   ]
  },
  {
   "cell_type": "markdown",
   "metadata": {},
   "source": [
    "## Side effects\n",
    "\n",
    "In imperative programming, functions can have side effects. A side effect is anything that changes the state of the program or the outside world. For example, printing to the screen, writing to a file, and modifying a global variable are all side effects.\n",
    "Here is a function with side effects:\n",
    "\n",
    "```python\n",
    "def add_to_list(x, lst):\n",
    "    lst.append(x)\n",
    "```\n",
    "\n",
    "We cannot use side effects in functional programming.\n",
    "And you cannot use side effects in Jax.\n",
    "\n",
    "## Pure functions\n",
    "\n",
    "A pure function is a function that has no side effects. It does not change any state and it does not mutate any data. It takes some input and returns some output. It is like a mathematical function.\n",
    "Here is a pure function:"
   ]
  },
  {
   "cell_type": "code",
   "execution_count": 5,
   "metadata": {},
   "outputs": [],
   "source": [
    "def f(x):\n",
    "    return x**2"
   ]
  },
  {
   "cell_type": "markdown",
   "metadata": {},
   "source": [
    "Alternatively, we can write this function as a lambda function:"
   ]
  },
  {
   "cell_type": "code",
   "execution_count": 6,
   "metadata": {},
   "outputs": [],
   "source": [
    "f = lambda x: x**2"
   ]
  },
  {
   "cell_type": "markdown",
   "metadata": {},
   "source": [
    "Lambda functions are a convenient way to write simple functions.\n",
    "\n",
    "Let's make a non-trivial pure function.\n",
    "We will calculate the factorial of a number:"
   ]
  },
  {
   "cell_type": "code",
   "execution_count": 7,
   "metadata": {},
   "outputs": [
    {
     "data": {
      "text/plain": [
       "3628800"
      ]
     },
     "execution_count": 7,
     "metadata": {},
     "output_type": "execute_result"
    }
   ],
   "source": [
    "def factorial(n):\n",
    "    if n == 0:\n",
    "        return 1\n",
    "    else:\n",
    "        return n * factorial(n-1)\n",
    "    \n",
    "factorial(10)"
   ]
  },
  {
   "cell_type": "markdown",
   "metadata": {},
   "source": [
    "Or the Fibonacci sequence:"
   ]
  },
  {
   "cell_type": "code",
   "execution_count": 8,
   "metadata": {},
   "outputs": [
    {
     "data": {
      "text/plain": [
       "55"
      ]
     },
     "execution_count": 8,
     "metadata": {},
     "output_type": "execute_result"
    }
   ],
   "source": [
    "def fibonacci(n):\n",
    "    if n == 0:\n",
    "        return 0\n",
    "    elif n == 1:\n",
    "        return 1\n",
    "    else: \n",
    "        return fibonacci(n-1) + fibonacci(n-2)\n",
    "    \n",
    "fibonacci(10)"
   ]
  },
  {
   "cell_type": "markdown",
   "metadata": {},
   "source": [
    "So, notice that we are avoiding side effects by not using any global variables and not printing anything to the screen.\n",
    "\n",
    "Let's do some functional programming with lists.\n",
    "Remember, we are not allowed to change the lists.\n",
    "First, how do we sum the list?"
   ]
  },
  {
   "cell_type": "code",
   "execution_count": 9,
   "metadata": {},
   "outputs": [
    {
     "data": {
      "text/plain": [
       "15.0"
      ]
     },
     "execution_count": 9,
     "metadata": {},
     "output_type": "execute_result"
    }
   ],
   "source": [
    "def mysum(x):\n",
    "    if x == []:\n",
    "        return 0.0\n",
    "    else:\n",
    "        return x[0] + mysum(x[1:])\n",
    "\n",
    "mysum([1,2,3,4,5])"
   ]
  },
  {
   "cell_type": "markdown",
   "metadata": {},
   "source": [
    "Notice that we have not used a loop. We have used recursion instead.\n",
    "This is a common pattern in functional programming.\n",
    "Some functional programming languages do not even have loops, e.g. Haskell.\n",
    "This sounds crazy, but it is possible to do everything with recursion."
   ]
  },
  {
   "cell_type": "markdown",
   "metadata": {},
   "source": [
    "## Functions are first-class objects\n",
    "\n",
    "In Python, functions are first-class objects. This means that you can assign functions to variables, pass them as arguments to other functions, and return them from functions. This is a key feature of functional programming.\n",
    "In particular, you can have pure functions that take other functions as arguments. This is called a higher-order function.\n",
    "\n",
    "Let's see some useful examples.\n",
    "\n",
    "(map)=\n",
    "### Map\n",
    "First, the function `map` applies a function to every element of a list:"
   ]
  },
  {
   "cell_type": "code",
   "execution_count": 10,
   "metadata": {},
   "outputs": [],
   "source": [
    "def mymap(x, f):\n",
    "    if x == []:\n",
    "        return []\n",
    "    else:\n",
    "        return [f(x[0])] + mymap(x[1:], f)"
   ]
  },
  {
   "cell_type": "markdown",
   "metadata": {},
   "source": [
    "Here is how it works:"
   ]
  },
  {
   "cell_type": "code",
   "execution_count": 11,
   "metadata": {},
   "outputs": [
    {
     "data": {
      "text/plain": [
       "[1, 4, 9, 16, 25]"
      ]
     },
     "execution_count": 11,
     "metadata": {},
     "output_type": "execute_result"
    }
   ],
   "source": [
    "mymap([1,2,3,4,5], lambda x: x**2)"
   ]
  },
  {
   "cell_type": "code",
   "execution_count": 12,
   "metadata": {},
   "outputs": [
    {
     "data": {
      "text/plain": [
       "[1, 8, 27, 64, 125]"
      ]
     },
     "execution_count": 12,
     "metadata": {},
     "output_type": "execute_result"
    }
   ],
   "source": [
    "mymap([1,2,3,4,5], lambda x: x**3)"
   ]
  },
  {
   "cell_type": "markdown",
   "metadata": {},
   "source": [
    "And so on.\n",
    "\n",
    "Note that `map` is already implemented in Python.\n",
    "\n",
    "(vmap)=\n",
    "### Vectorization (vmap)\n",
    "With `map` we can make a function that vectorizes another function, say `vmap`:"
   ]
  },
  {
   "cell_type": "code",
   "execution_count": 13,
   "metadata": {},
   "outputs": [],
   "source": [
    "myvmap = lambda f: lambda x: mymap(x, f)"
   ]
  },
  {
   "cell_type": "markdown",
   "metadata": {},
   "source": [
    "Before we take the time to unwrap this, here is how it works:"
   ]
  },
  {
   "cell_type": "code",
   "execution_count": 14,
   "metadata": {},
   "outputs": [
    {
     "data": {
      "text/plain": [
       "[1, 4, 9, 16, 25]"
      ]
     },
     "execution_count": 14,
     "metadata": {},
     "output_type": "execute_result"
    }
   ],
   "source": [
    "vectorized_sqr = myvmap(lambda x: x**2)\n",
    "\n",
    "vectorized_sqr([1,2,3,4,5])"
   ]
  },
  {
   "cell_type": "markdown",
   "metadata": {},
   "source": [
    "What is happening here?\n",
    "`myvmap` is a function that takes another function `f` as an argument.\n",
    "So far so good. Then it returns a function that takes a list as an argument and calls `mymap` on the list using `f` as the function to apply to each element.\n",
    "\n",
    "When we work with Jax, we will use `vmap` to vectorize functions a lot."
   ]
  },
  {
   "cell_type": "markdown",
   "metadata": {},
   "source": [
    "(reduce)=\n",
    "### Reduce\n",
    "\n",
    "Let's rethink of the `sum` function.\n",
    "What does it do?\n",
    "+ It takes a list.\n",
    "+ If the list is empty, it returns 0.\n",
    "+ Otherwise, **add** the first element of the list to the sum of the rest of the list.\n",
    "\n",
    "This pattern can be generalized:\n",
    "+ Take a list.\n",
    "+ If the list is empty, return some default value (initializer).\n",
    "+ If the list has a single element, then just return that element.\n",
    "+ Otherwise, **apply a function** to the first element of the list with the result of applying the same function to the rest of the list.\n",
    "\n",
    "Here is the code:"
   ]
  },
  {
   "cell_type": "code",
   "execution_count": 15,
   "metadata": {},
   "outputs": [],
   "source": [
    "def myreduce(f, x, init=None):\n",
    "    if x == []:\n",
    "        return init\n",
    "    elif len(x) == 1 and init == None:\n",
    "        return x[0]\n",
    "    else:\n",
    "        return f(x[0], myreduce(f, x[1:], init))"
   ]
  },
  {
   "cell_type": "markdown",
   "metadata": {},
   "source": [
    "Here is how we can express `sum` using `reduce`:"
   ]
  },
  {
   "cell_type": "code",
   "execution_count": 16,
   "metadata": {},
   "outputs": [
    {
     "data": {
      "text/plain": [
       "15"
      ]
     },
     "execution_count": 16,
     "metadata": {},
     "output_type": "execute_result"
    }
   ],
   "source": [
    "mysum2 = lambda x: myreduce(lambda x,y: x+y, x, 0)\n",
    "\n",
    "mysum2([1,2,3,4,5])"
   ]
  },
  {
   "cell_type": "markdown",
   "metadata": {},
   "source": [
    "Neat, right?\n",
    "\n",
    "Not just sum, but also `prod` (the product) can be expressed using `reduce`:"
   ]
  },
  {
   "cell_type": "code",
   "execution_count": 17,
   "metadata": {},
   "outputs": [
    {
     "data": {
      "text/plain": [
       "120"
      ]
     },
     "execution_count": 17,
     "metadata": {},
     "output_type": "execute_result"
    }
   ],
   "source": [
    "myprod = lambda x: myreduce(lambda x,y: x*y, x, 1)\n",
    "\n",
    "myprod([1,2,3,4,5])"
   ]
  },
  {
   "cell_type": "markdown",
   "metadata": {},
   "source": [
    "And `max`:"
   ]
  },
  {
   "cell_type": "code",
   "execution_count": 18,
   "metadata": {},
   "outputs": [
    {
     "data": {
      "text/plain": [
       "5"
      ]
     },
     "execution_count": 18,
     "metadata": {},
     "output_type": "execute_result"
    }
   ],
   "source": [
    "mymax = lambda x: myreduce(lambda x,y: x if x > y else y, x)\n",
    "\n",
    "mymax([1,2,3,4,5])"
   ]
  },
  {
   "cell_type": "markdown",
   "metadata": {},
   "source": [
    "(filter)=\n",
    "### Filter\n",
    "\n",
    "The function `filter` takes a function and a list and returns a list with only the elements that satisfy the function:"
   ]
  },
  {
   "cell_type": "code",
   "execution_count": 22,
   "metadata": {},
   "outputs": [],
   "source": [
    "def myfilter(f, x):\n",
    "    if x == []:\n",
    "        return []\n",
    "    else:\n",
    "        if f(x[0]):\n",
    "            return [x[0]] + myfilter(f, x[1:])\n",
    "        else:\n",
    "            return myfilter(f, x[1:])"
   ]
  },
  {
   "cell_type": "markdown",
   "metadata": {},
   "source": [
    "Let's use it to extract the even numbers from a list:"
   ]
  },
  {
   "cell_type": "code",
   "execution_count": 23,
   "metadata": {},
   "outputs": [
    {
     "data": {
      "text/plain": [
       "[2, 4, 6, 8, 10]"
      ]
     },
     "execution_count": 23,
     "metadata": {},
     "output_type": "execute_result"
    }
   ],
   "source": [
    "myfilter(lambda x: x % 2 == 0, [1, 2, 3, 4, 5, 6, 7, 8, 9, 10])"
   ]
  },
  {
   "cell_type": "markdown",
   "metadata": {},
   "source": [
    "### Partial application or currying\n",
    "\n",
    "The code above is a bit ugly.\n",
    "We can make it nicer using partial application.\n",
    "\n",
    "Suppose you have a function that takes two arguments:"
   ]
  },
  {
   "cell_type": "code",
   "execution_count": 24,
   "metadata": {},
   "outputs": [],
   "source": [
    "def f(x,y):\n",
    "    return x+y"
   ]
  },
  {
   "cell_type": "markdown",
   "metadata": {},
   "source": [
    "Now we want to make a function that fixes the first argument to some value, say 2.\n",
    "We can do it like this:"
   ]
  },
  {
   "cell_type": "code",
   "execution_count": 25,
   "metadata": {},
   "outputs": [
    {
     "data": {
      "text/plain": [
       "5"
      ]
     },
     "execution_count": 25,
     "metadata": {},
     "output_type": "execute_result"
    }
   ],
   "source": [
    "f2 = lambda y: f(2, y)\n",
    "\n",
    "f2(3)"
   ]
  },
  {
   "cell_type": "markdown",
   "metadata": {},
   "source": [
    "If we wanted to fix the second argument, we can do something similar.\n",
    "\n",
    "Python has a very good implementation of partial application in the `functools` module.\n",
    "Here is how we can use it:"
   ]
  },
  {
   "cell_type": "code",
   "execution_count": 26,
   "metadata": {},
   "outputs": [
    {
     "data": {
      "text/plain": [
       "5"
      ]
     },
     "execution_count": 26,
     "metadata": {},
     "output_type": "execute_result"
    }
   ],
   "source": [
    "import functools as ft\n",
    "\n",
    "f2 = ft.partial(f, 2)\n",
    "\n",
    "f2(3)"
   ]
  },
  {
   "cell_type": "markdown",
   "metadata": {},
   "source": [
    "It also has implementations of `reduce`. Let's use them to make a nicer version of `sum`:"
   ]
  },
  {
   "cell_type": "code",
   "execution_count": 27,
   "metadata": {},
   "outputs": [
    {
     "data": {
      "text/plain": [
       "15"
      ]
     },
     "execution_count": 27,
     "metadata": {},
     "output_type": "execute_result"
    }
   ],
   "source": [
    "sum2 = ft.partial(ft.reduce, lambda x,y: x+y)\n",
    "\n",
    "sum2([1,2,3,4,5])"
   ]
  },
  {
   "cell_type": "markdown",
   "metadata": {},
   "source": [
    "Here is `min`:"
   ]
  },
  {
   "cell_type": "code",
   "execution_count": 28,
   "metadata": {},
   "outputs": [
    {
     "data": {
      "text/plain": [
       "1"
      ]
     },
     "execution_count": 28,
     "metadata": {},
     "output_type": "execute_result"
    }
   ],
   "source": [
    "min2 = ft.partial(ft.reduce, lambda x,y: x if x < y else y)\n",
    "\n",
    "min2([2, 4, 6, 1, 3, 5])"
   ]
  },
  {
   "cell_type": "markdown",
   "metadata": {},
   "source": [
    "In functional programming languages, currying is used a lot.\n",
    "And the syntax is nicer.\n",
    "For example in Haskell, we can write:\n",
    "\n",
    "```haskell\n",
    "\n",
    "add :: Int -> Int -> Int\n",
    "add x y = x + y\n",
    "\n",
    "add2 :: Int -> Int\n",
    "add2 = add 2\n",
    "\n",
    "add2 3 -- 5\n",
    "```"
   ]
  },
  {
   "cell_type": "markdown",
   "metadata": {},
   "source": [
    "The function `add2` is the same as `add 2 x = 2 + x`."
   ]
  },
  {
   "cell_type": "markdown",
   "metadata": {},
   "source": [
    "(function-composition)=\n",
    "### Function composition\n",
    "\n",
    "Suppose you have two functions `f` and `g` such that the output of `g` is of the right type to be an input to `f`.\n",
    "Then you can compose them to make a new function `h` that is the same as applying `f` to the output of `g`.\n",
    "Mathematically, we write $h = f \\circ g$ for the function composition. You can read this as \"f after g\".\n",
    "\n",
    "Now the composition *operator* $\\circ$ is also a function. It takes two functions as arguments and returns a new function.\n",
    "Here is a simple implementation:"
   ]
  },
  {
   "cell_type": "code",
   "execution_count": 29,
   "metadata": {},
   "outputs": [],
   "source": [
    "compose = lambda f,g: lambda x: f(g(x))"
   ]
  },
  {
   "cell_type": "markdown",
   "metadata": {},
   "source": [
    "And here is how it works:"
   ]
  },
  {
   "cell_type": "code",
   "execution_count": 30,
   "metadata": {},
   "outputs": [
    {
     "name": "stdout",
     "output_type": "stream",
     "text": [
      "h(x)\t= 5\n",
      "f(g(x))\t= 5\n"
     ]
    }
   ],
   "source": [
    "g = lambda x: x**2\n",
    "f = lambda x: x+1\n",
    "\n",
    "h = compose(f, g)\n",
    "\n",
    "print(f\"h(x)\\t= {h(2)}\")\n",
    "print(f\"f(g(x))\\t= {f(g(2))}\")"
   ]
  },
  {
   "cell_type": "markdown",
   "metadata": {},
   "source": [
    "Again, composition is nicer in Haskell:\n",
    "\n",
    "```haskell\n",
    "\n",
    "f :: Int -> Int\n",
    "f x = x + 1\n",
    "\n",
    "g :: Int -> Int\n",
    "g x = x * 2\n",
    "\n",
    "h :: Int -> Int\n",
    "h = f . g\n",
    "\n",
    "h 3 --  7\n",
    "```"
   ]
  },
  {
   "cell_type": "markdown",
   "metadata": {},
   "source": [
    "### Decorators\n",
    "\n",
    "Decorators are a very useful feature of Python that allow you to modify functions with a nice syntax.\n",
    "Decorators are basically functions that take a function as an argument and return a new function.\n",
    "Our vectorization function `myvmap` is a decorator by this definition.\n",
    "The syntactic sugar for decorators is the `@` symbol.\n",
    "Here is how you can vectorize a function using the `@` symbol:"
   ]
  },
  {
   "cell_type": "code",
   "execution_count": 31,
   "metadata": {},
   "outputs": [],
   "source": [
    "@myvmap\n",
    "def g(x):\n",
    "    return x**3"
   ]
  },
  {
   "cell_type": "markdown",
   "metadata": {},
   "source": [
    "This is equivalent to first defining `g` and then doing `g = myvmap(g)`.\n",
    "Here is how it works:"
   ]
  },
  {
   "cell_type": "code",
   "execution_count": 32,
   "metadata": {},
   "outputs": [
    {
     "data": {
      "text/plain": [
       "[1, 8, 27, 64, 125]"
      ]
     },
     "execution_count": 32,
     "metadata": {},
     "output_type": "execute_result"
    }
   ],
   "source": [
    "g([1,2,3,4,5])"
   ]
  },
  {
   "cell_type": "code",
   "execution_count": null,
   "metadata": {},
   "outputs": [],
   "source": []
  }
 ],
 "metadata": {
  "kernelspec": {
   "display_name": "Python 3",
   "language": "python",
   "name": "python3"
  },
  "language_info": {
   "codemirror_mode": {
    "name": "ipython",
    "version": 3
   },
   "file_extension": ".py",
   "mimetype": "text/x-python",
   "name": "python",
   "nbconvert_exporter": "python",
   "pygments_lexer": "ipython3",
   "version": "3.11.6"
  }
 },
 "nbformat": 4,
 "nbformat_minor": 2
}
