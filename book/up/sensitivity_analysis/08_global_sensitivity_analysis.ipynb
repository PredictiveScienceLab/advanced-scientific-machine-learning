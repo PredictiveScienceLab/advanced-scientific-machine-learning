{
 "cells": [
  {
   "cell_type": "code",
   "execution_count": 4,
   "metadata": {
    "tags": [
     "hide-input"
    ]
   },
   "outputs": [],
   "source": [
    "import matplotlib.pyplot as plt\n",
    "%matplotlib inline\n",
    "import matplotlib_inline\n",
    "matplotlib_inline.backend_inline.set_matplotlib_formats('svg')\n",
    "import seaborn as sns\n",
    "sns.set_context(\"paper\")\n",
    "sns.set_style(\"ticks\");"
   ]
  },
  {
   "cell_type": "markdown",
   "metadata": {},
   "source": [
    "# Global Sensitivity Analysis"
   ]
  },
  {
   "cell_type": "markdown",
   "metadata": {},
   "source": [
    "We will again work with the Duffing Oscillator. As a reminder it is given by the following equation:\n",
    "\n",
    "$$\n",
    "\\ddot{x} + \\delta \\dot{x} + \\alpha x + \\beta x^3 = \\gamma \\cos(\\omega t)\n",
    "$$\n",
    "\n",
    "Written down as a vector field, we have:\n",
    "\n",
    "$$\n",
    "\\begin{align*}\n",
    "\\dot{x} = v \\\\\n",
    "\\dot{v} = -\\delta v - \\alpha x - \\beta x^3 + \\gamma \\cos(\\omega t)\n",
    "\\end{align*}\n",
    "$$\n",
    "\n",
    "Using the same code as before:"
   ]
  },
  {
   "cell_type": "code",
   "execution_count": 7,
   "metadata": {},
   "outputs": [
    {
     "name": "stderr",
     "output_type": "stream",
     "text": [
      "/Library/Frameworks/Python.framework/Versions/3.11/lib/python3.11/site-packages/jax/_src/core.py:691: FutureWarning: unhashable type: <class 'jax._src.interpreters.partial_eval.DynamicJaxprTracer'>. Attempting to hash a tracer will lead to an error in a future JAX release.\n",
      "  warnings.warn(\n",
      "/Library/Frameworks/Python.framework/Versions/3.11/lib/python3.11/site-packages/jax/_src/core.py:691: FutureWarning: unhashable type: <class 'jax._src.interpreters.partial_eval.DynamicJaxprTracer'>. Attempting to hash a tracer will lead to an error in a future JAX release.\n",
      "  warnings.warn(\n",
      "/Library/Frameworks/Python.framework/Versions/3.11/lib/python3.11/site-packages/jax/_src/core.py:691: FutureWarning: unhashable type: <class 'jax._src.interpreters.partial_eval.DynamicJaxprTracer'>. Attempting to hash a tracer will lead to an error in a future JAX release.\n",
      "  warnings.warn(\n"
     ]
    }
   ],
   "source": [
    "import numpy as np\n",
    "import jax.numpy as jnp\n",
    "from diffrax import diffeqsolve, Tsit5, ODETerm, SaveAt\n",
    "from SALib.sample import sobol_sequence\n",
    "from SALib.analyze import sobol\n",
    "\n",
    "def vector_field(t, y, theta):\n",
    "    alpha, beta, gamma, delta, omega = theta[:5]\n",
    "    x = y[0]\n",
    "    v = y[1]\n",
    "    return jnp.array(\n",
    "        [\n",
    "            v,\n",
    "            - alpha * x - beta * x ** 3 - delta * v + gamma * jnp.cos(omega * t)\n",
    "        ]\n",
    "    )\n",
    "\n",
    "theta = jnp.array([\n",
    "    1.0,  # alpha\n",
    "    5.0,  # beta\n",
    "    0.37, # gamma\n",
    "    0.1,  # delta\n",
    "    1.0,  # omega\n",
    "])\n",
    "\n",
    "# The numerical solver to use.\n",
    "solver = Tsit5()\n",
    "# At which timesteps to store the solution.\n",
    "saveat = SaveAt(ts=jnp.linspace(0, 50, 2000))\n",
    "# The differential equation term.\n",
    "term = ODETerm(vector_field)\n",
    "# The Solution for one theta.\n",
    "sol = diffeqsolve(\n",
    "    term,\n",
    "    solver,\n",
    "    t0=0,                       # Initial time\n",
    "    t1=50,                      # Terminal time\n",
    "    dt0=0.1,                    # Initial timestep - it will be adjusted\n",
    "    y0=jnp.array([0.0, 0.0]),   # Initial value\n",
    "    args=theta,\n",
    "    saveat=saveat\n",
    ")"
   ]
  },
  {
   "cell_type": "code",
   "execution_count": null,
   "metadata": {},
   "outputs": [],
   "source": []
  }
 ],
 "metadata": {
  "kernelspec": {
   "display_name": "Python 3",
   "language": "python",
   "name": "python3"
  },
  "language_info": {
   "codemirror_mode": {
    "name": "ipython",
    "version": 3
   },
   "file_extension": ".py",
   "mimetype": "text/x-python",
   "name": "python",
   "nbconvert_exporter": "python",
   "pygments_lexer": "ipython3",
   "version": "3.11.4"
  }
 },
 "nbformat": 4,
 "nbformat_minor": 2
}
