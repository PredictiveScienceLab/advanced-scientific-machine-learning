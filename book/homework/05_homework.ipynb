{
 "cells": [
  {
   "cell_type": "code",
   "execution_count": 1,
   "metadata": {
    "tags": [
     "hide-input",
     "hide-output"
    ]
   },
   "outputs": [],
   "source": [
    "import matplotlib.pyplot as plt\n",
    "%matplotlib inline\n",
    "import matplotlib_inline\n",
    "matplotlib_inline.backend_inline.set_matplotlib_formats('png')\n",
    "import seaborn as sns\n",
    "sns.set_context(\"paper\")\n",
    "sns.set_style(\"ticks\");"
   ]
  },
  {
   "cell_type": "markdown",
   "metadata": {},
   "source": [
    "# Homework 5 - TEMPLATE - DO NOT DO IT YET\n",
    "\n",
    "## References\n",
    "\n",
    "TBD\n",
    "\n",
    "## Instructions\n",
    "\n",
    "+ Type your name and email in the \"Student details\" section below.\n",
    "+ Develop the code and generate the figures you need to solve the problems using this notebook.\n",
    "+ For the answers that require a mathematical proof or derivation you should type them using latex. If you have never written latex before and you find it exceedingly difficult, we will likely accept handwritten solutions.\n",
    "+ The total homework points are 100. Please note that the problems are not weighed equally.\n",
    "\n",
    "## Student details\n",
    "\n",
    "+ **First Name:**\n",
    "+ **Last Name:**\n",
    "+ **Email:**\n",
    "+ **Used generative AI to complete this assignment (Yes/No):**\n",
    "+ **Which generative AI tool did you use (if applicable)?:**"
   ]
  },
  {
   "cell_type": "markdown",
   "metadata": {},
   "source": [
    "# Problem 1 - Partially Observed Lorenz System\n",
    "\n",
    "Below, I am going to generate some data from the Lorenz system.\n",
    "You are going to pretend that you only observe the $x$ component and try to identify dynamics from that."
   ]
  },
  {
   "cell_type": "code",
   "execution_count": 4,
   "metadata": {},
   "outputs": [],
   "source": [
    "import numpy as np\n",
    "import scipy\n",
    "\n",
    "sigma = 10.0\n",
    "rho = 28.0\n",
    "beta = 8.0 / 3.0\n",
    "dt = 0.01\n",
    "num_steps = int(20.0 / dt)\n",
    "ts = np.linspace(0, 100, num_steps)\n",
    "x0 = np.array([-8.0, 7.0, 27.0])\n",
    "\n",
    "def vector_field(x, t):\n",
    "    return (\n",
    "        sigma * (x[1] - x[0]),\n",
    "        x[0] * (rho - x[2]) - x[1],\n",
    "        x[0] * x[1] - beta * x[2]\n",
    "    )\n",
    "xs = scipy.integrate.odeint(vector_field, x0, ts)\n",
    "\n",
    "# Find the exact derivatives - no noise\n",
    "from jax import vmap, jit\n",
    "vf = jit(vmap(vector_field, in_axes=(0, 0)))\n",
    "dxs = np.array(vf(xs, ts))"
   ]
  },
  {
   "cell_type": "markdown",
   "metadata": {},
   "source": [
    "The data you should use are these:"
   ]
  },
  {
   "cell_type": "code",
   "execution_count": 6,
   "metadata": {},
   "outputs": [],
   "source": [
    "partial_xs = xs[:, 0]\n",
    "partial_dxs = dxs[:, 0]"
   ]
  },
  {
   "cell_type": "markdown",
   "metadata": {},
   "source": [
    "## Part A - Applying SINDY on a partially observed system\n",
    "\n",
    "Try to apply SINDY on `partial_xs` and `partial_dxs`.\n",
    "Just try to express the right-hand-side of the dynamics using a high order polynomial.\n",
    "Do not use anything fancier as there is no way this can work.\n",
    "Demonstrate using some validation data that this doesn't work.\n",
    "\n",
    "**Answer:**"
   ]
  },
  {
   "cell_type": "code",
   "execution_count": null,
   "metadata": {},
   "outputs": [],
   "source": [
    "# as many code blocks and markdown blocks as you want"
   ]
  },
  {
   "cell_type": "markdown",
   "metadata": {},
   "source": [
    "## Part B - The Hankel Matrix\n",
    "\n",
    "Part A failed because we tried to fit Markovian dynamics to a partially observed state.\n",
    "There are no Markovian dynamics for partially observed states.\n",
    "Partially observed states exhibit effective dynamics that appear to have memory (and noise).\n",
    "The Hankel matrix is a way to create variables that account for memory.\n",
    "We will try two variations.\n",
    "First, we will just try to learn dynamics directly on the columns of the Hankel matrix.\n",
    "This is not going to work if the memory we need is long.\n",
    "Then, we will use SVD to reduce the dimensionality of the Hankel matrix before attempting to learn the dynamics.\n",
    "\n",
    "Your data are $x(t_1),\\dots,x(t_m)$.\n",
    "The Hankel matrix is:\n",
    "\n",
    "$$\n",
    "\\mathbf{H}_\\ell = \\begin{bmatrix}\n",
    "x(t_1) & x(t_2) & x(t_3) & \\dots x(t_{m-\\ell})\\\\\n",
    "x(t_2) & x(t_3) & x(t_4) & \\dots x(t_{m-\\ell+1})\\\\\n",
    "\\vdots & \\vdots & \\vdots & \\dots \\vdots\\\\\n",
    "x(t_\\ell) & x(t_{\\ell+1}) & x(t_{\\ell+3}) \\dots & x(t_m)\n",
    "\\end{bmatrix}\n",
    "$$\n",
    "\n",
    "Write a function that forms the Hankel matrix given the data and $\\ell$.\n",
    "\n",
    "**Answer:**"
   ]
  },
  {
   "cell_type": "code",
   "execution_count": null,
   "metadata": {},
   "outputs": [],
   "source": [
    "def make_hankel(xs, ell):\n",
    "    \"\"\"Write a good docstring.\"\"\"\n",
    "    # write your code here\n",
    "    pass"
   ]
  },
  {
   "cell_type": "markdown",
   "metadata": {},
   "source": [
    "## Part C - Apply SINDY on the Hankel matrix\n",
    "\n",
    "Form the Hankel matrices for $x(t)$ and $\\dot{x}(t)$ for $\\ell=5$.\n",
    "Try to represent the dynamics with a third degree polynomial.\n",
    "Validate your results.\n",
    "Do not expect this work very well.\n",
    "\n",
    "**Answer:**"
   ]
  },
  {
   "cell_type": "code",
   "execution_count": null,
   "metadata": {},
   "outputs": [],
   "source": [
    "# as many code blocks and markdown blocks as you want"
   ]
  },
  {
   "cell_type": "markdown",
   "metadata": {},
   "source": [
    "## Part D - Do SVD on the Hankel matrix\n",
    "\n",
    "Let's pick a big $\\ell$. Say $\\ell = 100$:\n",
    "+ Form the corresponding Hankel matrix and then do SVD on it.\n",
    "+ Plot the explained variance as a function of the number of singular values.\n",
    "+ How much variance do you explain with three dimensions (this is the intrinsic dimensionality of the dynamical system)?\n",
    "+ Visualize the first three POD modes.\n",
    "+ Project the Hankel matrix columns to three dimensions (POD amplitudes/principal components).\n",
    "+ Plot the time series of each one of the principal components.\n",
    "+ Plot the 3D trajectory of the principal components.\n",
    "\n",
    "**Answer:**"
   ]
  },
  {
   "cell_type": "code",
   "execution_count": null,
   "metadata": {},
   "outputs": [],
   "source": [
    "# as many code blocks and markdown blocks as you want"
   ]
  },
  {
   "cell_type": "markdown",
   "metadata": {},
   "source": [
    "## Part E - Find the time derivatives of the principal components of the Hankel matrix\n",
    "\n",
    "To do SINDY, we need to have time derivatives.\n",
    "So, you have to find the time derivatives of the principal components of the Hankel matrix.\n",
    "You have two options:\n",
    "+ Work out analytically how the observed `partial_dxs` will project on the POD modes, or;\n",
    "+ Use numerical differentiation to find the required time derivatives (Google around for the best Python library for numerical differentiation). In this case, simple finite differences should work.\n",
    "\n",
    "**Answer:**"
   ]
  },
  {
   "cell_type": "code",
   "execution_count": null,
   "metadata": {},
   "outputs": [],
   "source": [
    "# as many code blocks and markdown blocks as you want"
   ]
  },
  {
   "cell_type": "markdown",
   "metadata": {},
   "source": [
    "## Part F - Do SINDY on the principal components of the Hankel matrix\n",
    "\n",
    "You are now ready to do SINDY on the principal components of the Hankel matrix.\n",
    "Use a polynomial of degree 5 as the right-hand-side.\n",
    "Try to validate your results.\n",
    "\n",
    "**Answer:**"
   ]
  },
  {
   "cell_type": "code",
   "execution_count": null,
   "metadata": {},
   "outputs": [],
   "source": [
    "# as many code blocks and markdown blocks as you want"
   ]
  },
  {
   "cell_type": "markdown",
   "metadata": {},
   "source": [
    "# Problem 2 - SINDY with measurement noise and no derivatives\n",
    "\n",
    "Let's get back to the Lorenz system. This time, we are going to assume that we have access to the full state, but we do not have the derivative, and the measurements are corrupted by noise.\n",
    "So, your available data are:"
   ]
  },
  {
   "cell_type": "code",
   "execution_count": 7,
   "metadata": {},
   "outputs": [],
   "source": [
    "eta = 0.01\n",
    "noisy_x = xs + eta * np.random.normal(0, 1.0, xs.shape)"
   ]
  },
  {
   "cell_type": "markdown",
   "metadata": {},
   "source": [
    "Review the package [derivative](https://pypi.org/project/derivative/) (which part of the `pysindy` ecosystem) and:\n",
    "- Use a suitable method to estimate the derivative dx/dt from the noisy data `noisy_xs`.\n",
    "- Apply SINDY to the denoised data and the numerical derivatives.\n",
    "- Validate your results.\n",
    "\n",
    "**Answer:**"
   ]
  },
  {
   "cell_type": "code",
   "execution_count": null,
   "metadata": {},
   "outputs": [],
   "source": [
    "# as many code blocks and markdown blocks as you want"
   ]
  }
 ],
 "metadata": {
  "kernelspec": {
   "display_name": "Python 3",
   "language": "python",
   "name": "python3"
  },
  "language_info": {
   "codemirror_mode": {
    "name": "ipython",
    "version": 3
   },
   "file_extension": ".py",
   "mimetype": "text/x-python",
   "name": "python",
   "nbconvert_exporter": "python",
   "pygments_lexer": "ipython3",
   "version": "3.11.6"
  }
 },
 "nbformat": 4,
 "nbformat_minor": 2
}
