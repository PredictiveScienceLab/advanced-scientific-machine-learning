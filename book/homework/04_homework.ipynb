{
 "cells": [
  {
   "cell_type": "code",
   "execution_count": null,
   "metadata": {
    "tags": [
     "hide-input",
     "hide-output"
    ]
   },
   "outputs": [],
   "source": [
    "import matplotlib.pyplot as plt\n",
    "%matplotlib inline\n",
    "import matplotlib_inline\n",
    "matplotlib_inline.backend_inline.set_matplotlib_formats('png')\n",
    "import seaborn as sns\n",
    "sns.set_context(\"paper\")\n",
    "sns.set_style(\"ticks\");"
   ]
  },
  {
   "cell_type": "markdown",
   "metadata": {},
   "source": [
    "# Homework 4\n",
    "\n",
    "## References\n",
    "\n",
    "+ Module 3: Uncertainty Propagation Through Scientific Models\n",
    "    - Surrogate modeling\n",
    "    - Active learning\n",
    "    - Enforcing symmetries\n",
    "\n",
    "## Instructions\n",
    "\n",
    "+ Type your name and email in the \"Student details\" section below.\n",
    "+ Develop the code and generate the figures you need to solve the problems using this notebook.\n",
    "+ For the answers that require a mathematical proof or derivation you should type them using latex. If you have never written latex before and you find it exceedingly difficult, we will likely accept handwritten solutions.\n",
    "+ The total homework points are 100. Please note that the problems are not weighed equally.\n",
    "\n",
    "## Student details\n",
    "\n",
    "+ **First Name:**\n",
    "+ **Last Name:**\n",
    "+ **Email:**\n",
    "+ **Used generative AI to complete this assignment (Yes/No):**\n",
    "+ **Which generative AI tool did you use (if applicable)?:**"
   ]
  },
  {
   "cell_type": "markdown",
   "metadata": {},
   "source": [
    "# Problem 1 - Building a Surrogate Model of a Legacy Code\n",
    "\n",
    "The purpose of this homework problem is to teach you how to build a surrogate model of a legacy code.\n",
    "\n",
    "Suppose you have access to a legacy code that solves an important engineering problem.\n",
    "For example, it could be using a finite element method to solve a partial differential equation.\n",
    "The code is computationally expensive and you would like to build a surrogate model to make predictions faster.\n",
    "I am going to sparse you the trouble of actually running a real legacy code in this homework problem.\n",
    "Instead, we are going to use the Brannin function as our ``legacy code''.\n",
    "The Brannin function is a simple mathematical function that is often used as a benchmark for optimization algorithms.\n",
    "It is defined as:\n",
    "\n",
    "$$\n",
    "f(x) = (x_2 - 5.1 x_1^2 / 4\\pi^2 + 5x_1/\\pi - 6)^2 + 10(1-1/8\\pi)\\cos(x_1) + 10\n",
    "$$\n",
    "\n",
    "where $x = (x_1, x_2)$ with values in the interval $x_1 \\in [-5, 10]$ and $x_2 \\in [0, 15]$.\n",
    "\n",
    "Let's write some C++ code to evaluate the Brannin function:"
   ]
  },
  {
   "cell_type": "code",
   "execution_count": null,
   "metadata": {},
   "outputs": [],
   "source": [
    "branin_code = r\"\"\"\n",
    "#include <cmath>\n",
    "#include <iostream>\n",
    "\n",
    "int main(int argc, char* argv[]) {\n",
    "  if (argc != 3) {\n",
    "    std::cerr << \"Usage: \" << argv[0] << \" x y\\n\";\n",
    "    return 1;\n",
    "  }\n",
    "  double x1 = std::stod(argv[1]);\n",
    "  double x2 = std::stod(argv[2]);\n",
    "  double f = (x2 - 5.1 * x1 * x1 / (4 * M_PI * M_PI) + 5 * x1 / M_PI - 6) * (x2 - 5.1 * x1 * x1 / (4 * M_PI * M_PI) + 5 * x1 / M_PI - 6) + 10 * (1 - 1 / (8 * M_PI)) * std::cos(x1) + 10;\n",
    "  std::cout << f << std::endl;\n",
    "  return 0;\n",
    "}\n",
    "\"\"\"\n",
    "\n",
    "with open(\"branin.cpp\", \"w\") as f:\n",
    "    f.write(branin_code)"
   ]
  },
  {
   "cell_type": "markdown",
   "metadata": {},
   "source": [
    "Let me compile it for you:"
   ]
  },
  {
   "cell_type": "code",
   "execution_count": null,
   "metadata": {},
   "outputs": [],
   "source": [
    "!g++ -std=c++11 -O3 -o branin branin.cpp -lm"
   ]
  },
  {
   "cell_type": "markdown",
   "metadata": {},
   "source": [
    "Here is the executable of the legacy code:"
   ]
  },
  {
   "cell_type": "code",
   "execution_count": null,
   "metadata": {},
   "outputs": [],
   "source": [
    "!ls -l branin"
   ]
  },
  {
   "cell_type": "markdown",
   "metadata": {},
   "source": [
    "You can run it like this:"
   ]
  },
  {
   "cell_type": "code",
   "execution_count": null,
   "metadata": {},
   "outputs": [],
   "source": [
    "!./branin 0.1 0.5"
   ]
  },
  {
   "cell_type": "markdown",
   "metadata": {},
   "source": [
    "## Part A - Build a Python wrapper for the legacy C++ code\n",
    "\n",
    "Write a Python function that takes $x = (x_1, x_2)$ as input and returns the output of the Brannin function. Vectorize the function so that it can take a 2D array of $x$'s arranged in a $n \\times 2$ matrix and return a 1D array of $n$ outputs.\n",
    "\n",
    "Hints:\n",
    "+ You need to use the `subprocess` module to call the executable and read the standard output.\n",
    "+ For the vectorization, use `numpy.vectorize` - not jax."
   ]
  },
  {
   "cell_type": "code",
   "execution_count": 2,
   "metadata": {},
   "outputs": [
    {
     "name": "stdout",
     "output_type": "stream",
     "text": [
      "[ 15.5335  57.1419 171.684  110.591   13.3561  46.4741  85.1283  70.0805\n",
      "  81.0471  10.8315]\n"
     ]
    }
   ],
   "source": [
    "# Your answer here, with as many code cells as you need.\n",
    "\n"
   ]
  },
  {
   "cell_type": "markdown",
   "metadata": {},
   "source": [
    "## Part B - Generate initial set of training input-output data and test data\n",
    "\n",
    "+ Use $n=10$ points from the Sobol sequence, map them to $[-5, 10] \\times [0, 15]$, and evaluate the Brannin function using the Python wrapper you built in Part A.\n",
    "+ Use another $n_{\\text{test}}=50$ points from the Sobol sequence, map them to $[-5, 10] \\times [0, 15]$, and evaluate the Brannin function using the Python wrapper you built in Part A."
   ]
  },
  {
   "cell_type": "code",
   "execution_count": null,
   "metadata": {},
   "outputs": [],
   "source": [
    "# Your answer here, with as many code cells as you need."
   ]
  },
  {
   "cell_type": "markdown",
   "metadata": {},
   "source": [
    "## Part C - Build an initial surrogate model\n",
    "\n",
    "+ Build a Gaussian process surrogate model using the training data generated in Part B.\n",
    "Pick a squared exponential kernel and optimize the hyper-parameters using the marginal likelihood.\n",
    "+ Test your model on the test data generated in Part B.\n",
    "+ Calculate and report the root mean squared error on the test data:\n",
    "\n",
    "    $$\n",
    "    \\text{RMSE} = \\sqrt{\\frac{1}{n_{\\text{test}}} \\sum_{i=1}^{n_{\\text{test}}} (f_{\\text{true}}(x_i) - f_{\\text{pred}}(x_i))^2}\n",
    "    $$\n",
    "\n",
    "    where $f_{\\text{true}}(x_i)$ is the true value of the Brannin function at the test point $x_i$ and $f_{\\text{pred}}(x_i)$ is the predicted value of the Brannin function at the test point $x_i$.\n",
    "\n",
    "+ Plot the predictions on the test data along with the true values.\n",
    "+ Calculate the stanardized errors on the test data and plot them.\n",
    "+ Plot the quantile-quantile plot of the standardized errors.\n",
    "\n",
    "Hint: Standardize the output data before building the surrogate model using the initial test set."
   ]
  },
  {
   "cell_type": "markdown",
   "metadata": {},
   "source": [
    "## Part D - Randomly collect more training data\n",
    "\n",
    "+ Pick the next point from the Sobol sequence, map it to $[-5, 10] \\times [0, 15]$, and evaluate the Brannin function using the Python wrapper you built in Part A.\n",
    "+ Add the new point to the training data and rebuild the surrogate model.\n",
    "+ Test your model on the test data generated in Part B.\n",
    "+ Calculate and report the root mean squared error on the test data.\n",
    "+ Iterate this process for 190 iterations.\n",
    "+ Plot the root mean squared error as a function of the number of training points (not the number of iterations).\n",
    "+ For the last iteration, plot the predictions on the test data along with the true values.\n",
    "+ For the last iteration, calculate the stanardized errors on the test data and plot them.\n",
    "+ For the last iteration, plot the quantile-quantile plot of the standardized errors."
   ]
  },
  {
   "cell_type": "code",
   "execution_count": null,
   "metadata": {},
   "outputs": [],
   "source": [
    "# Your answer here, with as many code cells as you need."
   ]
  },
  {
   "cell_type": "markdown",
   "metadata": {},
   "source": [
    "## Part E - Active learning\n",
    "\n",
    "Use uncertainty sampling to select the next point to evaluate. Implement it as follows:\n",
    "\n",
    "+ Start with a clean surrogate model using only the $n=10$ initial training points.\n",
    "+ On each iteration:\n",
    "    - Generate $n_{\\text{candidate}} = 1000$ points from the Sobol sequence.\n",
    "    - Calculate the predictive variance of the surrogate model at each candidate point.\n",
    "    - Select the candidate point with the highest predictive variance.\n",
    "    - Evaluate the legacy code at the selected candidate point (don't forget to scale it to $[-5, 10] \\times [0, 15]$).\n",
    "    - Add the new point to the training data and rebuild the surrogate model.\n",
    "    - Test your model on the test data generated in Part B.\n",
    "    - Calculate and report the root mean squared error on the test data.\n",
    "+ Iterate this process for 190 iterations.\n",
    "+ Plot the root mean squared error as a function of the number of training points (not the number of iterations).\n",
    "+ For the last iteration, plot the predictions on the test data along with the true values.\n",
    "+ For the last iteration, calculate the stanardized errors on the test data and plot them.\n",
    "+ For the last iteration, plot the quantile-quantile plot of the standardized errors.\n",
    "+ Plot the root mean squared error as a function of the number of training points for the random sampling case. Compare it with the random sampling case.\n",
    "+ Did you do better with active learning than with random sampling? Why?\n",
    "+ Plot the points that were selected by the active learning process. Where are most of them located?"
   ]
  },
  {
   "cell_type": "code",
   "execution_count": null,
   "metadata": {},
   "outputs": [],
   "source": [
    "# Your answer here, with as many code cells as you need."
   ]
  },
  {
   "cell_type": "markdown",
   "metadata": {},
   "source": [
    "## Part F - Optimization\n",
    "\n",
    "Now suppose that what you wanted to do was to find the minimum of the legacy code.\n",
    "\n",
    "+ Start with a clean surrogate model using only the $n=10$ initial training points.\n",
    "+ On each iteration:\n",
    "    - Generate $n_{\\text{candidate}} = 1000$ points from the Sobol sequence.\n",
    "    - Calculate the predictive mean $\\mu(x)$ and standard deviation $\\sigma(x)$ of the surrogate model at each candidate point.\n",
    "    - Select the candidate point with the highest expected improvement:\n",
    "\n",
    "        $$\n",
    "        \\text{EI}(x) = \\mathbb{E}[\\max(f_{\\text{min}} - f(x), 0)] = \\sigma(x) [\\gamma(x) \\Phi(\\gamma(x)) + \\phi(\\gamma(x))]\n",
    "        $$\n",
    "\n",
    "        where $f_{\\text{min}}$ is the minimum value of the Brannin function found so far, $\\gamma(x) = (f_{\\text{min}} - \\mu(x)) / \\sigma(x)$, $\\Phi$ is the cumulative distribution function of the standard normal distribution, and $\\phi$ is the probability density function of the standard normal distribution.\n",
    "\n",
    "    - Add the new point to the training data and rebuild the surrogate model.\n",
    "+ Iterate this process for 50 iterations.\n",
    "+ Plot the expected improvement as a function of the number of training points.\n",
    "+ Plot the minimum value of the Brannin function found so far as a function of the number of training points.\n",
    "+ Plot the points that were selected by the optimization process. Where are most of them located?"
   ]
  },
  {
   "cell_type": "code",
   "execution_count": null,
   "metadata": {},
   "outputs": [],
   "source": [
    "# Your answer here, with as many code cells as you need."
   ]
  },
  {
   "cell_type": "markdown",
   "metadata": {},
   "source": [
    "## Part G - Multi-fidelity approach\n",
    "\n",
    "Now, let's pretend that we have access to a low-fidelity version of the legacy code.\n",
    "Pick this:\n",
    "\n",
    "$$\n",
    "f_{\\text{low}}(x) = (x_2 - 5.1 x_1^2 / 4\\pi^2 + 5x_1/\\pi - 6)^2.\n",
    "$$\n",
    "\n",
    "Notice that this is very similar to the legacy code, but it misses the cosine term and the constant term.\n",
    "Let's pretend that the low-fidelity code is much cheaper to evaluate than the high-fidelity code.\n",
    "We can use the low-fidelity code to build a surrogate model and then use the high-fidelity code to correct the surrogate model.\n",
    "\n",
    "+ Generate $n_{\\text{low}}=200$ points from the Sobol sequence and evaluate the low-fidelity code at these points.\n",
    "+ Build a Gaussian process surrogate model using the low-fidelity data.\n",
    "+ Build a multi-fidelity Gaussian process surrogate model using the $n=10$ initial training points and the low-fidelity surrogate mean. Hint: Just make your covariance function:\n",
    "\n",
    "    $$\n",
    "    k(x, x') = k_1(x, x')k_2(f_{\\text{low}}(x), f_{\\text{low}}(x')),\n",
    "    $$\n",
    "\n",
    "    where $k_1$ is the squared exponential kernel and $k_2$ is the squared exponential kernel with different hyper-parameters. Use one variance hyper-parameter (set the other to 1).\n",
    "+ Iteratively add more points using uncertainty sampling as in Part E. Go again to 200 points.\n",
    "+ Plot the root mean squared error as a function of the number of training points and compare to the single-fidelity case.\n",
    "+ Plot the points that were selected by the multi-fidelity active learning process. Where are most of them located?"
   ]
  },
  {
   "cell_type": "code",
   "execution_count": null,
   "metadata": {},
   "outputs": [],
   "source": [
    "# Your answer here, with as many code cells as you need."
   ]
  },
  {
   "cell_type": "markdown",
   "metadata": {},
   "source": [
    "# Problem 2 - The permutation group\n",
    "\n",
    "The purpose of this problem is to teach you the basics of the permutation group and its representations.\n",
    "\n",
    "The permutation group is particularly important for two reasons.\n",
    "First, according to Cayley's theorem, every finite group is isomorphic to a subgroup of a permutation group.\n",
    "Second, we will see that every permutation group has a representation as a matrix group with the operation being the common matrix multiplication.\n",
    "Therefore, **every finite group has a matrix representation**.\n",
    "\n",
    "The permutation group $S_n$ is the group of all permutations of $n$ elements.\n",
    "Each element of the group is a bijective function that maps $\\{1, 2, \\ldots, n\\}$ to itself.\n",
    "Bijective means one-to-one and onto, i.e., each element of the set is mapped to a unique element of the set and each element of the set is mapped to.\n",
    "For example, an element of $S_3$ is the function $\\sigma: \\{1, 2, 3\\} \\to \\{1, 2, 3\\}$ defined by $\\sigma(1) = 2$, $\\sigma(2) = 3$, and $\\sigma(3) = 1$.\n",
    "\n",
    "The group operation is composition of functions.\n",
    "The identity element is the function that maps each element to itself.\n",
    "The inverse of a function is the function that undoes the permutation.\n",
    "\n",
    "## Part A\n",
    "\n",
    "How many elements does $S_n$ have?"
   ]
  },
  {
   "cell_type": "markdown",
   "metadata": {},
   "source": []
  },
  {
   "cell_type": "markdown",
   "metadata": {},
   "source": [
    "## Part B\n",
    "\n",
    "One way to represent permuations is as a 2-row matrix where the first row is the input and the second row is the output.\n",
    "For example, the permutation $\\sigma$ defined above can be represented as:\n",
    "\n",
    "$$\n",
    "\\sigma = \\begin{bmatrix}\n",
    "1 & 2 & 3 \\\\\n",
    "2 & 3 & 1\n",
    "\\end{bmatrix}\n",
    "$$\n",
    "\n",
    "Represent as such a matrix the permutation that maps 1 to 3, 2 to 1, and 3 to 2."
   ]
  },
  {
   "cell_type": "markdown",
   "metadata": {},
   "source": []
  },
  {
   "cell_type": "markdown",
   "metadata": {},
   "source": [
    "## Part C\n",
    "\n",
    "A cycle is a permutation that moves some elements and leaves the others fixed.\n",
    "For example, the permutation:\n",
    "\n",
    "$$\n",
    "\\sigma = \\begin{bmatrix}\n",
    "1 & 2 & 3 & 4\\\\\n",
    "2 & 3 & 1 & 4\n",
    "\\end{bmatrix}\n",
    "$$\n",
    "\n",
    "in $S_4$ is a cycle. There is a cycle notation that is more compact.\n",
    "We can also write:\n",
    "\n",
    "$$\n",
    "\\sigma = (1, 2, 3)\n",
    "$$\n",
    "\n",
    "And we mean that 1 is mapped to 2, 2 is mapped to 3, and 3 is mapped to 1.\n",
    "The cycle notation is not unique. For example, we could also write:\n",
    "\n",
    "$$\n",
    "\\sigma = (2, 3, 1)\n",
    "$$\n",
    "\n",
    "And we would mean the same permutation.\n",
    "Write the permutation:\n",
    "\n",
    "$$\n",
    "\\sigma = \\begin{bmatrix}\n",
    "1 & 2 & 3 & 4\\\\\n",
    "2 & 1 & 4 & 3\n",
    "\\end{bmatrix}\n",
    "$$\n",
    "\n",
    "in cycle notation."
   ]
  },
  {
   "cell_type": "markdown",
   "metadata": {},
   "source": []
  },
  {
   "cell_type": "markdown",
   "metadata": {},
   "source": [
    "## Part D\n",
    "\n",
    "Any permutation can be written as a product of disjoint cycles.\n",
    "For example, the permutation:\n",
    "\n",
    "$$\n",
    "\\sigma = \\begin{bmatrix}\n",
    "1 & 2 & 3 & 4\\\\\n",
    "2 & 1 & 4 & 3\n",
    "\\end{bmatrix}\n",
    "$$\n",
    "\n",
    "can be written as:\n",
    "\n",
    "$$\n",
    "\\sigma = (1, 2)(3, 4)\n",
    "$$\n",
    "\n",
    "To figure out this decomposition, you can start with the first element and follow the permutation until you get back to the first element.\n",
    "Then you write the cycle and remove the elements that are part of the cycle.\n",
    "You repeat this process until you have written all the cycles.\n",
    "Write the permutation:\n",
    "\n",
    "$$\n",
    "\\sigma = \\begin{bmatrix}\n",
    "1 & 2 & 3 & 4 & 5 & 6\\\\\n",
    "2 & 1 & 4 & 3 & 6 & 5\n",
    "\\end{bmatrix}\n",
    "$$\n",
    "\n",
    "in $S_6$ as a product of disjoint cycles."
   ]
  },
  {
   "cell_type": "markdown",
   "metadata": {},
   "source": []
  },
  {
   "cell_type": "markdown",
   "metadata": {},
   "source": [
    "## Part E\n",
    "\n",
    "A transposition is a cycle of length 2.\n",
    "Like $(1, 2)$ or $(3, 4)$.\n",
    "Any permutation can be written as a product of transpositions.\n",
    "\n",
    "For example, take the permutation\n",
    "\n",
    "$$\n",
    "\\sigma = \\begin{bmatrix}\n",
    "1 & 2 & 3 & 4 & 5\\\\\n",
    "4 & 1 & 5 & 2 & 3\n",
    "\\end{bmatrix}\n",
    "$$\n",
    "\n",
    "in $S_5$.\n",
    "First, write it as a product of disjoint cycles:\n",
    "\n",
    "$$\n",
    "\\sigma = (1, 4, 2)(3, 5).\n",
    "$$\n",
    "\n",
    "Then write each cycle as a product of transpositions.\n",
    "For example,\n",
    "\n",
    "$$\n",
    "(1, 4, 2) = (1, 4)(4, 2).\n",
    "$$\n",
    "\n",
    "And then you have:\n",
    "\n",
    "$$\n",
    "\\sigma = (1, 4)(4, 2)(3, 5).\n",
    "$$\n",
    "\n",
    "Write the permutation:\n",
    "\n",
    "$$\n",
    "\\sigma = \\begin{bmatrix}\n",
    "1 & 2 & 3 & 4 & 5\\\\\n",
    "2 & 1 & 4 & 5 & 3\n",
    "\\end{bmatrix}\n",
    "$$\n",
    "\n",
    "in $S_5$ as a product of transpositions.\n"
   ]
  },
  {
   "cell_type": "markdown",
   "metadata": {},
   "source": []
  },
  {
   "cell_type": "markdown",
   "metadata": {},
   "source": [
    "## Part F\n",
    "\n",
    "The number of transpositions in the decomposition of a permutation is always the same.\n",
    "If the number of transpositions is even, the permutation is called even.\n",
    "If the number of transpositions is odd, the permutation is called odd.\n",
    "\n",
    "Is the permutation:\n",
    "\n",
    "$$\n",
    "\\sigma = \\begin{bmatrix}\n",
    "1 & 2 & 3 & 4 & 5\\\\\n",
    "2 & 1 & 4 & 5 & 3\n",
    "\\end{bmatrix}\n",
    "$$\n",
    "\n",
    "in $S_5$ even or odd?"
   ]
  },
  {
   "cell_type": "markdown",
   "metadata": {},
   "source": []
  },
  {
   "cell_type": "markdown",
   "metadata": {},
   "source": [
    "## Part G\n",
    "\n",
    "The set of all even permutations in $S_n$ is a subgroup of $S_n$.\n",
    "It is called the *alternating group* and denoted by $A_n$.\n",
    "\n",
    "+ Show that when you multiply two even permutations you get an even permutation. Hint: If you multiply two even permutations, how many transpositions do you get?\n",
    "+ Show that the identity permutation is even. Hint: How many transpositions do you need to write the identity permutation?\n",
    "+ Show that the inverse of the transposition $(a, b)$ is itself.\n",
    "+ Show that the inverse of the transposition $(1, 2)(3, 4)$ is $(1, 2)(3, 4)$.\n",
    "+ Show that the inverse of the transposition $(1, 2)(2, 3)$ is $(2, 3)(1, 2)$.\n",
    "+ Argue that the inverse of a an even permutation is even. Hint: Write the permutation as a product of transpositions and generalize the previous results.\n",
    "+ Argue that $A_n$ is a group and since it is closed under multiplication, it is a subgroup of $S_n$."
   ]
  },
  {
   "cell_type": "markdown",
   "metadata": {},
   "source": []
  },
  {
   "cell_type": "markdown",
   "metadata": {},
   "source": [
    "## Part H\n",
    "\n",
    "Now let's represent permutations as square matrices.\n",
    "A permutation matrix is a square matrix that has exactly one 1 in each row and each column and 0's elsewhere.\n",
    "For example, the permutation:\n",
    "\n",
    "$$\n",
    "\\sigma = \\begin{bmatrix}\n",
    "1 & 2 & 3 & 4\\\\\n",
    "2 & 1 & 4 & 3\n",
    "\\end{bmatrix}\n",
    "$$\n",
    "\n",
    "in $S_4$ can be represented as the permutation matrix:\n",
    "\n",
    "$$\n",
    "D(\\sigma) = \\begin{bmatrix}\n",
    "0 & 1 & 0 & 0\\\\\n",
    "1 & 0 & 0 & 0\\\\\n",
    "0 & 0 & 0 & 1\\\\\n",
    "0 & 0 & 1 & 0\n",
    "\\end{bmatrix}.\n",
    "$$\n",
    "\n",
    "The matrix can act on a one-hot vector representation of the numbers from 1 to $4$.\n",
    "For example, $2$ is represented as:\n",
    "\n",
    "$$\n",
    "D(2) = \\begin{bmatrix}\n",
    "0\\\\\n",
    "1\\\\\n",
    "0\\\\\n",
    "0\n",
    "\\end{bmatrix}.\n",
    "$$\n",
    "\n",
    "And the matrix acting on $2$ gives:\n",
    "\n",
    "$$\n",
    "D(\\sigma)D(2)\n",
    "= \\begin{bmatrix}\n",
    "0 & 1 & 0 & 0\\\\\n",
    "1 & 0 & 0 & 0\\\\\n",
    "0 & 0 & 0 & 1\\\\\n",
    "0 & 0 & 1 & 0\n",
    "\\end{bmatrix}\n",
    "\\begin{bmatrix}\n",
    "0\\\\\n",
    "1\\\\\n",
    "0\\\\\n",
    "0\n",
    "\\end{bmatrix}\n",
    "=\n",
    "\\begin{bmatrix}\n",
    "1\\\\\n",
    "0\\\\\n",
    "0\\\\\n",
    "0\n",
    "\\end{bmatrix}.\n",
    "$$\n",
    "\n",
    "+ Find the matrix representation, $D(\\sigma)$ and $D(\\tau)$, of the $S_4$ permutations:\n",
    "\n",
    "    $$\n",
    "    \\sigma = (1, 2)(2, 3)\n",
    "    $$\n",
    "\n",
    "    and \n",
    "\n",
    "    $$\n",
    "    \\tau = (1, 3)(2, 4).\n",
    "    $$\n",
    "\n",
    "+ Verify, by direct calculation, that the matrix product $D(\\sigma)D(\\tau)$ is the matrix representation of the permutation $\\sigma \\tau$.\n",
    "+ Find the inverse of the matrix $D(\\sigma)$. To which permutation does it correspond? Verify that it is indeed the inverse by multiplying the matrix by its inverse and showing that you get the identity matrix."
   ]
  },
  {
   "cell_type": "markdown",
   "metadata": {},
   "source": [
    "## Part I\n",
    "\n",
    "Using what you know you could create a $3\\times 3$ matrix representation of $S_3$ (group of permutations of three objects).\n",
    "But it actually possible to create a faithful representation that is $2\\times 2$, albeit it will be complex.\n",
    "We will, of course, map the identity permutation to the identity matrix:\n",
    "\n",
    "$$\n",
    "D(\\text{Id}) = \\begin{bmatrix}\n",
    "1 & 0\\\\\n",
    "0 & 1\n",
    "\\end{bmatrix}.\n",
    "$$\n",
    "\n",
    "But where do we map the rest?\n",
    "Let's start with the cycle $(1, 2, 3)$.\n",
    "Observe that:\n",
    "\n",
    "$$\n",
    "(1,2,3)^2 = (1,2,3)(1,2,3) = (1,3,2).\n",
    "$$\n",
    "\n",
    "And once more:\n",
    "\n",
    "$$\n",
    "(1,2,3)^3 = (1,2,3)^2(1,2,3) = (1,3,2)(1,2,3) = \\text{Id}.\n",
    "$$\n",
    "\n",
    "So, we need to find a $2\\times 2$ matrix $D((1,2,3))$ such that:\n",
    "\n",
    "$$\n",
    "D((1,2,3))^3 = \\begin{bmatrix}\n",
    "1 & 0\\\\\n",
    "0 & 1\n",
    "\\end{bmatrix}.\n",
    "$$\n",
    "\n",
    "+ Try a diagonal matrix:\n",
    "\n",
    "    $$\n",
    "    D((1,2,3)) = \\begin{bmatrix}\n",
    "    a & 0\\\\\n",
    "    0 & b\n",
    "    \\end{bmatrix}.\n",
    "    $$\n",
    "\n",
    "    Hint: You will need to use complex numbers and the cube root of unity, $\\omega = e^{2\\pi i/3}$.\n",
    "\n",
    "+ What is the matrix representation of $(1, 3, 2)$? Hint: Use the fact that $(1, 3, 2) = (1, 2, 3)^2$.\n",
    "+ Pick that the matrix representation of $(1,2)$ to be:\n",
    "\n",
    "    $$\n",
    "    D((1,2)) = \\begin{bmatrix}\n",
    "    0 & 1\\\\\n",
    "    1 & 0\n",
    "    \\end{bmatrix}.\n",
    "    $$\n",
    "\n",
    "    Verify that $D((1,2))^2 = \\text{Id}$.\n",
    "+ Find the matrix representation of $D((2,3))$. Hint: Use the fact that $(2,3) = (1, 2)(1, 2, 3)$.\n",
    "+ Find the matrix representation of $D((1,3))$.\n",
    "\n"
   ]
  },
  {
   "cell_type": "markdown",
   "metadata": {},
   "source": []
  }
 ],
 "metadata": {
  "kernelspec": {
   "display_name": "Python 3",
   "language": "python",
   "name": "python3"
  },
  "language_info": {
   "codemirror_mode": {
    "name": "ipython",
    "version": 3
   },
   "file_extension": ".py",
   "mimetype": "text/x-python",
   "name": "python",
   "nbconvert_exporter": "python",
   "pygments_lexer": "ipython3",
   "version": "3.12.5"
  }
 },
 "nbformat": 4,
 "nbformat_minor": 2
}
