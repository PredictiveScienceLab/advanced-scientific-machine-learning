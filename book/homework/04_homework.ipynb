{
 "cells": [
  {
   "cell_type": "code",
   "execution_count": 2,
   "metadata": {
    "tags": [
     "hide-input",
     "hide-output"
    ]
   },
   "outputs": [],
   "source": [
    "import matplotlib.pyplot as plt\n",
    "%matplotlib inline\n",
    "import matplotlib_inline\n",
    "matplotlib_inline.backend_inline.set_matplotlib_formats('png')\n",
    "import seaborn as sns\n",
    "sns.set_context(\"paper\")\n",
    "sns.set_style(\"ticks\");"
   ]
  },
  {
   "cell_type": "markdown",
   "metadata": {},
   "source": [
    "# Homework 4 - TEMPLATE - DO NOT DO IT YET\n",
    "\n",
    "## References\n",
    "\n",
    "TBD\n",
    "\n",
    "## Instructions\n",
    "\n",
    "+ Type your name and email in the \"Student details\" section below.\n",
    "+ Develop the code and generate the figures you need to solve the problems using this notebook.\n",
    "+ For the answers that require a mathematical proof or derivation you should type them using latex. If you have never written latex before and you find it exceedingly difficult, we will likely accept handwritten solutions.\n",
    "+ The total homework points are 100. Please note that the problems are not weighed equally.\n",
    "\n",
    "## Student details\n",
    "\n",
    "+ **First Name:**\n",
    "+ **Last Name:**\n",
    "+ **Email:**\n",
    "+ **Used generative AI to complete this assignment (Yes/No):**\n",
    "+ **Which generative AI tool did you use (if applicable)?:**"
   ]
  },
  {
   "cell_type": "markdown",
   "metadata": {},
   "source": [
    "# Problem 1 - Theory of Proper Orthogonal Decomposition (POD)\n",
    "\n",
    "Let $\\Omega$ be a subset of $\\mathbb{R}^d$ and let $L^2(\\Omega)$ be the space of square-integrable functions on $\\Omega$.\n",
    "The inner product in $L^2(\\Omega)$ is defined by:\n",
    "\n",
    "$$\n",
    "\\langle u, v \\rangle \\equiv u^\\dagger v \\equiv \\int_\\Omega u(x) v(x) \\, dx.\n",
    "$$\n",
    "\n",
    "Suppose we have a dataset of $N$ functions $\\{u_i\\}_{i=1}^N \\subset L^2(\\Omega)$.\n",
    "Define the empirical mean of any operator or functional $F[u]$ by:\n",
    "\n",
    "$$\n",
    "\\langle F[u] \\rangle = \\frac{1}{N} \\sum_{i=1}^N F[u_i].\n",
    "$$\n",
    "\n",
    "Define the operator $R: L^2(\\Omega) \\to L^2(\\Omega)$ by:\n",
    "\n",
    "$$\n",
    "R\\phi = \\langle (\\phi^\\dagger u)u \\rangle = \\frac{1}{N} \\sum_{i=1}^N (\\phi^\\dagger u_i)u_i.\n",
    "$$\n",
    "\n",
    "Recall that the POD modes are the eigenfunctions of the operator $R$:\n",
    "\n",
    "$$\n",
    "R\\phi_k = \\lambda_k \\phi_k.\n",
    "$$\n",
    "\n",
    "In this problem, I am asking you to prove some properties of $R$ and the POD modes using just the following properties:\n",
    "\n",
    "+ The inner produce $u^\\dagger v = \\langle u, v \\rangle$ satisfies the properties of a standard inner product.\n",
    "+ The empirical mean $\\langle F[u] \\rangle$ satisfies the basic properties of the expectation value of a random variable.\n",
    "+ You can interchange the order of the empirical mean and the inner product, i.e., $\\langle F[u] \\rangle = F[\\langle u \\rangle]$ for any linear operator $F$."
   ]
  },
  {
   "cell_type": "markdown",
   "metadata": {},
   "source": [
    "## Part A\n",
    "\n",
    "Show that the operator $R$ has the kernel representation:\n",
    "\n",
    "$$\n",
    "(R\\phi)(x) = \\int R(x,x') \\phi(x') \\, dx',\n",
    "$$\n",
    "\n",
    "where the kernel $R(x,x')$ is given by:\n",
    "\n",
    "$$\n",
    "R(x,x') = \\langle u(x) u(x') \\rangle.\n",
    "$$\n",
    "\n",
    "*Hint: Use the definition of $R$ and the properties of the inner product and the empirical mean.*"
   ]
  },
  {
   "cell_type": "markdown",
   "metadata": {},
   "source": [
    "**Answer:**"
   ]
  },
  {
   "cell_type": "markdown",
   "metadata": {},
   "source": [
    "## Part B\n",
    "\n",
    "Show that the operator $R$ is linear, i.e.,\n",
    "\n",
    "$$\n",
    "R(\\alpha \\phi + \\beta \\psi) = \\alpha R\\phi + \\beta R\\psi.\n",
    "$$"
   ]
  },
  {
   "cell_type": "markdown",
   "metadata": {},
   "source": [
    "**Answer:**"
   ]
  },
  {
   "cell_type": "markdown",
   "metadata": {},
   "source": [
    "## Part C\n",
    "\n",
    "Show that the operator $R$ is bounded, in the sense that\n",
    "\n",
    "$$\n",
    "\\| R\\phi \\| \\leq C \\| \\phi \\|\n",
    "$$\n",
    "\n",
    "for some constant $C$ that does not depend on $\\phi$.\n",
    "\n",
    "*Hint: Use the triangle inequality for norms and the Cauchy-Schwarz inequality.*"
   ]
  },
  {
   "cell_type": "markdown",
   "metadata": {},
   "source": [
    "**Answer:**"
   ]
  },
  {
   "cell_type": "markdown",
   "metadata": {},
   "source": [
    "## Part D\n",
    "\n",
    "Show that $R$ is continuous.\n",
    "\n",
    "*Hint: It sufficies to show that if $\\|\\phi_n - \\phi\\| \\to 0$, then $\\|R\\phi_n - R\\phi\\|\\to 0$. Use the fact that $R$ is bounded.*"
   ]
  },
  {
   "cell_type": "markdown",
   "metadata": {},
   "source": [
    "**Answer:**"
   ]
  },
  {
   "cell_type": "markdown",
   "metadata": {},
   "source": [
    "## Part E\n",
    "\n",
    "The adjoint of an operator $A$ is the operator $A^\\dagger$ such that\n",
    "\n",
    "$$\n",
    "\\langle A\\phi, \\psi \\rangle = \\langle \\phi, A^\\dagger \\psi \\rangle.\n",
    "$$\n",
    "\n",
    "It is easier to understand the adjoint using the dagger notation:\n",
    "\n",
    "$$\n",
    "(A\\phi)^\\dagger \\psi = \\phi^\\dagger (A^\\dagger \\psi).\n",
    "$$\n",
    "\n",
    "That is, you can think of the adjoint as the transpose of a real matrix (or the conjugate transpose of a complex matrix).\n",
    "Show that $R$ is self-adjoint when $R^\\dagger = R$, i.e.,\n",
    "\n",
    "$$\n",
    "\\langle R\\phi, \\psi \\rangle = \\langle \\phi, R\\psi \\rangle,\n",
    "$$\n",
    "\n",
    "or equivalently in terms of the dagger notation:\n",
    "\n",
    "$$\n",
    "(R\\phi)^\\dagger \\psi = \\phi^\\dagger (R\\psi) = \\phi^\\dagger R\\psi.\n",
    "$$\n",
    "\n",
    "So, you can think of the self-adjoint property as the analog of a real matrix being symmetric or a complex matrix being Hermitian.\n",
    "\n",
    "*Hint: Just start with the left hand side, use the definition of $R$, the properties of the inner product and the empirical mean, and the fact that the inner product is a scalar.*"
   ]
  },
  {
   "cell_type": "markdown",
   "metadata": {},
   "source": [
    "**Answer:**"
   ]
  },
  {
   "cell_type": "markdown",
   "metadata": {},
   "source": [
    "## Part F\n",
    "\n",
    "Show that $R$ is positive semi-definite, i.e.,\n",
    "\n",
    "$$\n",
    "\\langle R\\phi, \\phi \\rangle \\geq 0,\n",
    "$$\n",
    "\n",
    "or equivalently in terms of the dagger notation:\n",
    "\n",
    "$$\n",
    "\\phi^\\dagger R\\phi \\geq 0.\n",
    "$$"
   ]
  },
  {
   "cell_type": "markdown",
   "metadata": {},
   "source": [
    "**Answer:**"
   ]
  },
  {
   "cell_type": "markdown",
   "metadata": {},
   "source": [
    "## Part G\n",
    "\n",
    "$R$ is also compact, but it is harder to show this property.\n",
    "In any case, because $R$ is linear, bounded, self-adjoint, compact, and positive semi-definite, it has a complete set of orthonormal eigenfunctions $\\{\\phi_k\\}_{k=1}^\\infty$ and corresponding non-negative eigenvalues $\\{\\lambda_k\\}_{k=1}^\\infty$.\n",
    "\n",
    "Show that we can represent $R$ using the spectral decomposition:\n",
    "\n",
    "$$\n",
    "R = \\sum_{k=1}^\\infty \\lambda_k \\phi_k \\phi_k^\\dagger.\n",
    "$$\n",
    "\n",
    "You can think of $\\phi_k \\phi_k^\\dagger$ as the analog of a rank-one matrix.\n",
    "It is defined in terms of its application to a function $\\psi$ as:\n",
    "\n",
    "$$\n",
    "(\\phi_k \\phi_k^\\dagger \\psi)(x) = \\phi_k(x) (\\phi_k^\\dagger\\psi),\n",
    "$$\n",
    "\n",
    "since $\\phi_k^\\dagger\\psi$ is a scalar.\n",
    "\n",
    "*Hint: Take an arbitrary function $\\phi$ and expand it in the basis of eigenfunctions $\\{\\phi_k\\}_{k=1}^\\infty$. Then show that applying $R$ to it gives the same result as applying the right-hand-side of the above expression.*"
   ]
  },
  {
   "cell_type": "markdown",
   "metadata": {},
   "source": [
    "**Answer:**"
   ]
  },
  {
   "cell_type": "markdown",
   "metadata": {},
   "source": [
    "## Part H\n",
    "\n",
    "Show that the spectral decomposition of the kernel $R(x,x')$ is:\n",
    "\n",
    "$$\n",
    "R(x,x') = \\sum_{k=1}^\\infty \\lambda_k \\phi_k(x) \\phi_k(x').\n",
    "$$"
   ]
  },
  {
   "cell_type": "markdown",
   "metadata": {},
   "source": [
    "**Answer:**"
   ]
  },
  {
   "cell_type": "markdown",
   "metadata": {},
   "source": [
    "## Part I\n",
    "\n",
    "Suppose $u$ is one component of the velocity field of a fluid flow of constant density $\\rho$.\n",
    "The kinetic energy stored in this component of the fluid velocity is:\n",
    "\n",
    "$$\n",
    "K[u] = \\frac{1}{2}\\rho \\int_\\Omega u(x)^2 \\, dx = \\frac{1}{2}\\|u\\|^2.\n",
    "$$\n",
    "\n",
    "Show that the empirical mean of the kinetic energy is:\n",
    "\n",
    "$$\n",
    "\\bar{K} = \\langle K[u] \\rangle = \\frac{1}{2}\\rho \\sum_{i=1}^\\infty \\lambda_i.\n",
    "$$"
   ]
  },
  {
   "cell_type": "markdown",
   "metadata": {},
   "source": [
    "**Answer:**"
   ]
  },
  {
   "cell_type": "markdown",
   "metadata": {},
   "source": [
    "## Problem 2 - POD of fluid flow\n",
    "\n",
    "In this problem, we will apply POD on fluid flow.\n",
    "We will use the 2D Navier-Stokes solution data set from Wang & Perdikaris (https://arxiv.org/abs/2203.07404).\n",
    "The data contain the magnitude of a 2D fluid flow velocity field at different times.\n",
    "You can see a video of it here:\n",
    "\n",
    "<video width=\" \" height=\" \" \n",
    "       src=\"https://user-images.githubusercontent.com/3844367/152894393-6fbc5e1e-f2b0-419e-aa74-3ecb17d0e23e.mp4\" \n",
    "       controls>\n",
    "</video>"
   ]
  },
  {
   "cell_type": "markdown",
   "metadata": {},
   "source": [
    "You can download the data using the following command:"
   ]
  },
  {
   "cell_type": "code",
   "execution_count": 255,
   "metadata": {},
   "outputs": [
    {
     "name": "stdout",
     "output_type": "stream",
     "text": [
      "  % Total    % Received % Xferd  Average Speed   Time    Time     Time  Current\n",
      "                                 Dload  Upload   Total   Spent    Left  Speed\n",
      "  0     0    0     0    0     0      0      0 --:--:-- --:--:-- --:--:--     0"
     ]
    },
    {
     "name": "stdout",
     "output_type": "stream",
     "text": [
      "100 12.6M  100 12.6M    0     0  16.7M      0 --:--:-- --:--:-- --:--:-- 16.7M\n"
     ]
    }
   ],
   "source": [
    "!curl -O https://raw.githubusercontent.com/PredictiveIntelligenceLab/CausalPINNs/main/data/NS.npy"
   ]
  },
  {
   "cell_type": "markdown",
   "metadata": {},
   "source": [
    "You can load the data like this:"
   ]
  },
  {
   "cell_type": "code",
   "execution_count": 257,
   "metadata": {},
   "outputs": [],
   "source": [
    "data = np.load('NS.npy', allow_pickle=True)"
   ]
  },
  {
   "cell_type": "markdown",
   "metadata": {},
   "source": [
    "And you should work with the velocity magnitude:"
   ]
  },
  {
   "cell_type": "code",
   "execution_count": 261,
   "metadata": {},
   "outputs": [
    {
     "data": {
      "text/plain": [
       "(200, 128, 128)"
      ]
     },
     "execution_count": 261,
     "metadata": {},
     "output_type": "execute_result"
    }
   ],
   "source": [
    "vel_mag = data.item()['sol']\n",
    "vel_mag.shape"
   ]
  },
  {
   "cell_type": "markdown",
   "metadata": {},
   "source": [
    "You will also need the times at which the data were collected:"
   ]
  },
  {
   "cell_type": "code",
   "execution_count": 259,
   "metadata": {},
   "outputs": [],
   "source": [
    "times = data.item()['t']"
   ]
  },
  {
   "cell_type": "markdown",
   "metadata": {},
   "source": [
    "And the spatial grid:"
   ]
  },
  {
   "cell_type": "code",
   "execution_count": 260,
   "metadata": {},
   "outputs": [],
   "source": [
    "x = data.item()['x']\n",
    "y = data.item()['y']\n",
    "X1, X2 = np.meshgrid(x, y)"
   ]
  },
  {
   "cell_type": "markdown",
   "metadata": {},
   "source": [
    "### Part A - Singular value decomposition\n",
    "\n",
    "Arrange all your data in a big matrix $\\mathbf{X}$ such that each row is a snapshot of the velocity field.\n",
    "That is, each row should be a flattened version of the velocity magnitude at a given time.\n",
    "Then, compute the economy version of the singular value decomposition (SVD) of $\\mathbf{X}$:\n",
    "\n",
    "$$\n",
    "\\mathbf{X} = \\mathbf{U} \\mathbf{\\Sigma} \\mathbf{V}^T.\n",
    "$$\n",
    "\n",
    "*Hint: Use the function `scipy.linalg.svd`.*"
   ]
  },
  {
   "cell_type": "markdown",
   "metadata": {},
   "source": [
    "**Answer:**"
   ]
  },
  {
   "cell_type": "code",
   "execution_count": null,
   "metadata": {},
   "outputs": [],
   "source": [
    "# your code"
   ]
  },
  {
   "cell_type": "markdown",
   "metadata": {},
   "source": [
    "### Part B - Plot the percentage of energy captured by the POD modes\n",
    "\n",
    "Plot the percentage of energy captured by the first $K$ POD modes, i.e.,\n",
    "the percentage of energy captured by the first $K$ singular values, as a function of $K$.\n",
    "That is, plot:\n",
    "\n",
    "$$\n",
    "\\frac{\\sum_{k=1}^K \\sigma_k^2}{\\sum_{k=1}^N \\sigma_k^2} \\times 100\n",
    "$$\n",
    "\n",
    "Use your plot to find the number of POD modes that capture 90% of the energy."
   ]
  },
  {
   "cell_type": "markdown",
   "metadata": {},
   "source": [
    "**Answer:**"
   ]
  },
  {
   "cell_type": "code",
   "execution_count": null,
   "metadata": {},
   "outputs": [],
   "source": [
    "# Your code here"
   ]
  },
  {
   "cell_type": "markdown",
   "metadata": {},
   "source": [
    "### Part C - Visualize the first two POD modes\n",
    "\n",
    "Visualize the first two POD modes.\n",
    "Recall, the POD modes are captured by the columns of the matrix $\\mathbf{V}$.\n",
    "So, you just need to take each of the first two columns of $\\mathbf{V}$ and reshape them to the original spatial grid and do a contour plot."
   ]
  },
  {
   "cell_type": "markdown",
   "metadata": {},
   "source": [
    "**Answer:**"
   ]
  },
  {
   "cell_type": "code",
   "execution_count": null,
   "metadata": {},
   "outputs": [],
   "source": [
    "# Your code here"
   ]
  },
  {
   "cell_type": "markdown",
   "metadata": {},
   "source": [
    "### Part D - Principal components or modal coefficients\n",
    "\n",
    "The principal components or modal coefficients are the projections of the data onto the POD modes.\n",
    "Using the SVD, we have that the projections are:\n",
    "\n",
    "$$\n",
    "\\mathbf{Z} = \\mathbf{U}\\boldsymbol{\\Sigma}.\n",
    "$$\n",
    "\n",
    "Find that matrix and keep only the columns that correspond to 90% of the energy."
   ]
  },
  {
   "cell_type": "markdown",
   "metadata": {},
   "source": [
    "**Answer:**"
   ]
  },
  {
   "cell_type": "code",
   "execution_count": null,
   "metadata": {},
   "outputs": [],
   "source": [
    "# your code here"
   ]
  },
  {
   "cell_type": "markdown",
   "metadata": {},
   "source": [
    "### Part E - The modal coefficients are uncorrelated\n",
    "\n",
    "Verify numerically that the modal coefficients are uncorrelated, i.e., that the empirical mean of the product of the modal coefficients is zero.\n",
    "\n",
    "*Hint: You won't find exactly zero, but you should find a number that is very close to zero. You can get what you want by looking at the off diagonal of $\\mathbf{Z}^T\\mathbf{Z}$ and dividing by 200.*"
   ]
  },
  {
   "cell_type": "markdown",
   "metadata": {},
   "source": [
    "**Answer:**"
   ]
  },
  {
   "cell_type": "code",
   "execution_count": 285,
   "metadata": {},
   "outputs": [],
   "source": [
    "# Your code here"
   ]
  },
  {
   "cell_type": "markdown",
   "metadata": {},
   "source": [
    "### Part F - Plot the time evolution of the first two modal coefficients\n",
    "\n",
    "Plot the time evolution of the first two modal coefficients."
   ]
  },
  {
   "cell_type": "markdown",
   "metadata": {},
   "source": [
    "**Answer:**"
   ]
  },
  {
   "cell_type": "code",
   "execution_count": null,
   "metadata": {},
   "outputs": [],
   "source": [
    "# Your code here"
   ]
  },
  {
   "cell_type": "markdown",
   "metadata": {},
   "source": [
    "### Part G - Reconstruction of the velocity magnitude\n",
    "\n",
    "Reconstruct the velocity magnitude at times 0, 1, ans 2, using the first $K$ POD modes (90\\% of the energy).\n",
    "Compare your reconstructions with the original data."
   ]
  },
  {
   "cell_type": "markdown",
   "metadata": {},
   "source": [
    "**Answer:**"
   ]
  },
  {
   "cell_type": "code",
   "execution_count": null,
   "metadata": {},
   "outputs": [],
   "source": [
    "# Your code here"
   ]
  }
 ],
 "metadata": {
  "kernelspec": {
   "display_name": "Python 3",
   "language": "python",
   "name": "python3"
  },
  "language_info": {
   "codemirror_mode": {
    "name": "ipython",
    "version": 3
   },
   "file_extension": ".py",
   "mimetype": "text/x-python",
   "name": "python",
   "nbconvert_exporter": "python",
   "pygments_lexer": "ipython3",
   "version": "3.11.6"
  }
 },
 "nbformat": 4,
 "nbformat_minor": 2
}
