{
 "cells": [
  {
   "cell_type": "code",
   "execution_count": 1,
   "metadata": {
    "tags": [
     "hide-input"
    ]
   },
   "outputs": [],
   "source": [
    "import matplotlib.pyplot as plt\n",
    "%matplotlib inline\n",
    "import matplotlib_inline\n",
    "matplotlib_inline.backend_inline.set_matplotlib_formats('png')\n",
    "import seaborn as sns\n",
    "sns.set_context(\"paper\")\n",
    "sns.set_style(\"ticks\");"
   ]
  },
  {
   "cell_type": "markdown",
   "metadata": {},
   "source": [
    "# Homework 2 - TEMPLATE - DO NOT DO IT YET\n",
    "\n",
    "## References\n",
    "\n",
    "+ Module 3: Uncertainty Propagation Through Scientific Models\n",
    "   - Local sensitivity analysis\n",
    "   - Global sensitivity analysis\n",
    "\n",
    "## Instructions\n",
    "\n",
    "+ Type your name and email in the \"Student details\" section below.\n",
    "+ Develop the code and generate the figures you need to solve the problems using this notebook.\n",
    "+ For the answers that require a mathematical proof or derivation you should type them using latex. If you have never written latex before and you find it exceedingly difficult, we will likely accept handwritten solutions.\n",
    "+ The total homework points are 100. Please note that the problems are not weighed equally.\n",
    "\n",
    "## Student details\n",
    "\n",
    "+ **First Name:**\n",
    "+ **Last Name:**\n",
    "+ **Email:**\n",
    "+ **Used generative AI to complete this assignment (Yes/No):**\n",
    "+ **Which generative AI tool did you use (if applicable)?:**"
   ]
  },
  {
   "cell_type": "markdown",
   "metadata": {},
   "source": [
    "# Problem 1 - Local sensitivity analysis of nonlinear dynamical system\n",
    "\n",
    "Consider the dynamical system:\n",
    "\n",
    "$$\n",
    "\\dot{x_1} = \\mu x_1 + x_2 - x_1^2,\n",
    "$$\n",
    "\n",
    "and\n",
    "\n",
    "$$\n",
    "\\dot{x_2} = -x_1 + \\mu x_2 + 2 x_1^2.\n",
    "$$\n",
    "\n",
    "Use the random initial conditions:\n",
    "\n",
    "$$\n",
    "x(0) \\sim N\\left(\n",
    "    \\begin{pmatrix}\n",
    "    0 \\\\\n",
    "    0\n",
    "    \\end{pmatrix},\n",
    "    \\begin{pmatrix}\n",
    "    \\sigma^2 & 0 \\\\\n",
    "    0 & \\sigma^2\n",
    "    \\end{pmatrix}\n",
    "\\right)\n",
    "$$\n",
    "\n",
    "First, write code that solves the differential equation given the initial and the parameter $\\mu$.\n",
    "Make sure your code is vectorized with respect to the initial conditions and that it can be `jit`ed."
   ]
  },
  {
   "cell_type": "code",
   "execution_count": null,
   "metadata": {},
   "outputs": [],
   "source": [
    "# Your code and evidence that it works here"
   ]
  },
  {
   "cell_type": "markdown",
   "metadata": {},
   "source": [
    "+ Use first order sensitivity analysis to compute the mean and covariance matrix of the solution for the time interval $t \\in [0, 10]$.\n",
    "+ Implement a simple Monte Carlo procedure to compare the results of the sensitivity analysis.\n",
    "+ Do it for three different values of $\\mu$, $\\mu=0, 0.01$, and $0.066$.\n",
    "+ Use $\\sigma=0.01$.\n",
    "+ Plot the mean in the $x_1 - x_2$ plane for each value of $\\mu$. Compare local sensitivity analysis to Monte Carlo.\n",
    "+ Plot the standard deviation of $x_1$ and $x_2$ as a function of time for each value of $\\mu$. Compare local sensitivity analysis to Monte Carlo."
   ]
  },
  {
   "cell_type": "code",
   "execution_count": null,
   "metadata": {},
   "outputs": [],
   "source": [
    "# Your code here - You will need several blocks and discussion"
   ]
  }
 ],
 "metadata": {
  "kernelspec": {
   "display_name": "Python 3",
   "language": "python",
   "name": "python3"
  },
  "language_info": {
   "codemirror_mode": {
    "name": "ipython",
    "version": 3
   },
   "file_extension": ".py",
   "mimetype": "text/x-python",
   "name": "python",
   "nbconvert_exporter": "python",
   "pygments_lexer": "ipython3",
   "version": "3.11.6"
  }
 },
 "nbformat": 4,
 "nbformat_minor": 2
}
